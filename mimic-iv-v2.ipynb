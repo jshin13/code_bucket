{
 "metadata": {
  "language_info": {
   "codemirror_mode": {
    "name": "ipython",
    "version": 3
   },
   "file_extension": ".py",
   "mimetype": "text/x-python",
   "name": "python",
   "nbconvert_exporter": "python",
   "pygments_lexer": "ipython3",
   "version": "3.9.5"
  },
  "orig_nbformat": 2,
  "kernelspec": {
   "name": "python3",
   "display_name": "Python 3.9.5 64-bit ('rwe': venv)"
  },
  "interpreter": {
   "hash": "8d87682bd6d7aca5fac03d33e20409c7a60c25cd2495098241918cfb6028ae5c"
  }
 },
 "nbformat": 4,
 "nbformat_minor": 2,
 "cells": [
  {
   "source": [
    "## Did Azithromycin prevent death by coronary heart disease?\n",
    "\n",
    "Within the past decade, serious attention has been given to the possibility of bacterial vectors as causal factors of atherosclerosis. To date, the greatest amount of information has related to the intracellular organism Chlamydia pneumoniae. This interest has been stimulated by the frequent finding of bacterial antigens and, occasionally, recoverable organisms, within human atherosclerotic plaque. Indirect evidence for and against the benefit of anti-Chlamydia antibiotic agents comes from epidemiologic studies.\n",
    "\n",
    "Anderson JL, Muhlestein JB. Antibiotic trials for coronary heart disease. Tex Heart Inst J. 2004;31(1):33-8. PMID: 15061624"
   ],
   "cell_type": "markdown",
   "metadata": {}
  },
  {
   "source": [
    "<u>Causal element description</u>\n",
    "\n",
    "Population: patients with coronary syndrome\n",
    "\n",
    "Outcome: death (`dod` == T|F)\n",
    "\n",
    "Exposure: Azithromycin analog\n",
    "\n",
    "Confounder: Age, Gender"
   ],
   "cell_type": "markdown",
   "metadata": {}
  },
  {
   "source": [
    "%%script bash\n",
    "\n",
    "-- work-in-progress pseudo-code below --\n",
    "\n",
    "Given three datasets: df_diag, df_pat, df_pharm\n",
    "\n",
    "Population definition:\n",
    "1. search for \"coronary\" from df_diag (A)\n",
    "2. INNER join A with df_pat by subject_id (B)\n",
    "\n",
    "Outcome definition:\n",
    "3. conditional B (dod = 0 | dod = 1) (outcome[0,1])\n",
    "\n",
    "Exposure definition:\n",
    "4. search for \"thromycin\" from df_pharm (C)\n",
    "5. conditional C >= 0 to find exposure == 1 (D)\n",
    "6. INNER join outcome [0,1] with D by subject_id (treated_outcome)\n",
    "7. FULL OUTER join outcome [0,1] with D by subject_id (not_treated_outcome)\n",
    "\n",
    "Micro data generation:\n",
    "8. FULL join treated_outcome and not_treated_outcome (micro_data)\n",
    "\n",
    "Data finalization:\n",
    "9. Impute missing values\n",
    "10. Remove irrelevant columns"
   ],
   "cell_type": "code",
   "metadata": {},
   "execution_count": 1,
   "outputs": [
    {
     "output_type": "stream",
     "name": "stdout",
     "text": [
      "Couldn't find program: 'bash'\n"
     ]
    }
   ]
  },
  {
   "source": [
    "## Data Preparation Stage"
   ],
   "cell_type": "markdown",
   "metadata": {}
  },
  {
   "source": [
    "### Import dependencies"
   ],
   "cell_type": "markdown",
   "metadata": {}
  },
  {
   "cell_type": "code",
   "execution_count": 2,
   "metadata": {},
   "outputs": [],
   "source": [
    "import numpy as np\n",
    "import pandas as pd\n",
    "pd.options.display.max_columns = 0\n",
    "import matplotlib.pyplot as plt\n",
    "import seaborn as sns\n",
    "\n",
    "import time\n",
    "import zipfile\n",
    "import gzip\n",
    "import io\n",
    "import warnings\n",
    "warnings.simplefilter('ignore')\n",
    "\n",
    "from src import RWE\n",
    "\n",
    "TRUNCATED_DATASETS = False #uses truncated dataset if true\n",
    "EXPORT_NEW_TRUNCATED_DATEASETS = False"
   ]
  },
  {
   "source": [
    "### Define filepath"
   ],
   "cell_type": "markdown",
   "metadata": {}
  },
  {
   "cell_type": "code",
   "execution_count": 3,
   "metadata": {},
   "outputs": [],
   "source": [
    "# patient dataset contains dod information\n",
    "FILEPATH_patients = 'C:/Users/t-jongshin/Desktop/workstation/2021_rwe/api/asset/mimic-iv-1.0/core/patients.csv.gz'\n",
    "\n",
    "# patient visit dataset contains icd information (requires deidentification)\n",
    "FILEPATH_d_diagno = 'C:/Users/t-jongshin/Desktop/workstation/2021_rwe/api/asset/mimic-iv-1.0/hosp/d_icd_diagnoses.csv.gz'\n",
    "FILEPATH_diagnose = 'C:/Users/t-jongshin/Desktop/workstation/2021_rwe/api/asset/mimic-iv-1.0/hosp/diagnoses_icd.csv.gz'\n",
    "\n",
    "# patient pharmacy dataset contains drug information\n",
    "FILEPATH_pharmacy = 'C:/Users/t-jongshin/Desktop/workstation/2021_rwe/api/asset/mimic-iv-1.0/hosp/pharmacy.csv.gz'"
   ]
  },
  {
   "source": [
    "### Read from gunzip "
   ],
   "cell_type": "markdown",
   "metadata": {}
  },
  {
   "cell_type": "code",
   "execution_count": 4,
   "metadata": {},
   "outputs": [
    {
     "output_type": "stream",
     "name": "stdout",
     "text": [
      "execution took 167.48 seconds\n"
     ]
    }
   ],
   "source": [
    "s = time.time()\n",
    "\n",
    "if TRUNCATED_DATASETS:\n",
    "    dat_patients = pd.read_csv('asset/patients.csv')\n",
    "    dat_diagnose = pd.read_csv('asset/diagnoses_icd.csv')\n",
    "    dat_pharmacy = pd.read_csv('asset/pharmacy.csv')\n",
    "    dic_diagnose = pd.read_csv('asset/d_icd_diagnoses.csv')\n",
    "\n",
    "else:\n",
    "    with gzip.open(FILEPATH_patients, 'rb') as f:    \n",
    "        dat_patients = pd.read_csv(f)\n",
    "\n",
    "    with gzip.open(FILEPATH_diagnose, 'rb') as f:    \n",
    "        dat_diagnose = pd.read_csv(f)\n",
    "\n",
    "    with gzip.open(FILEPATH_pharmacy, 'rb') as f:    \n",
    "        dat_pharmacy = pd.read_csv(f)\n",
    "\n",
    "    with gzip.open(FILEPATH_d_diagno, 'rb') as f:    \n",
    "        dic_diagnose = pd.read_csv(f)\n",
    "\n",
    "print(f'execution took {round(time.time() - s, 2)} seconds')"
   ]
  },
  {
   "cell_type": "code",
   "execution_count": 5,
   "metadata": {},
   "outputs": [],
   "source": [
    "# for exporting trimmed datasets\n",
    "if EXPORT_NEW_TRUNCATED_DATEASETS:\n",
    "    dat_pharmacy[:100000].to_csv('asset/pharmacy.csv', index=False)\n",
    "    dat_patients[:100000].to_csv('asset/patients.csv', index=False)\n",
    "    dat_diagnose[:100000].to_csv('asset/diagnoses_icd.csv', index=False)\n",
    "    dic_diagnose.to_csv('asset/d_icd_diagnoses.csv', index=False)"
   ]
  },
  {
   "cell_type": "code",
   "execution_count": 6,
   "metadata": {},
   "outputs": [
    {
     "output_type": "display_data",
     "data": {
      "text/plain": "   subject_id gender  anchor_age  anchor_year anchor_year_group  dod\n0    10000048      F          23         2126       2008 - 2010  NaN",
      "text/html": "<div>\n<style scoped>\n    .dataframe tbody tr th:only-of-type {\n        vertical-align: middle;\n    }\n\n    .dataframe tbody tr th {\n        vertical-align: top;\n    }\n\n    .dataframe thead th {\n        text-align: right;\n    }\n</style>\n<table border=\"1\" class=\"dataframe\">\n  <thead>\n    <tr style=\"text-align: right;\">\n      <th></th>\n      <th>subject_id</th>\n      <th>gender</th>\n      <th>anchor_age</th>\n      <th>anchor_year</th>\n      <th>anchor_year_group</th>\n      <th>dod</th>\n    </tr>\n  </thead>\n  <tbody>\n    <tr>\n      <th>0</th>\n      <td>10000048</td>\n      <td>F</td>\n      <td>23</td>\n      <td>2126</td>\n      <td>2008 - 2010</td>\n      <td>NaN</td>\n    </tr>\n  </tbody>\n</table>\n</div>"
     },
     "metadata": {}
    },
    {
     "output_type": "display_data",
     "data": {
      "text/plain": "   subject_id   hadm_id  seq_num icd_code  icd_version\n0    15734973  20475282        3     2825            9",
      "text/html": "<div>\n<style scoped>\n    .dataframe tbody tr th:only-of-type {\n        vertical-align: middle;\n    }\n\n    .dataframe tbody tr th {\n        vertical-align: top;\n    }\n\n    .dataframe thead th {\n        text-align: right;\n    }\n</style>\n<table border=\"1\" class=\"dataframe\">\n  <thead>\n    <tr style=\"text-align: right;\">\n      <th></th>\n      <th>subject_id</th>\n      <th>hadm_id</th>\n      <th>seq_num</th>\n      <th>icd_code</th>\n      <th>icd_version</th>\n    </tr>\n  </thead>\n  <tbody>\n    <tr>\n      <th>0</th>\n      <td>15734973</td>\n      <td>20475282</td>\n      <td>3</td>\n      <td>2825</td>\n      <td>9</td>\n    </tr>\n  </tbody>\n</table>\n</div>"
     },
     "metadata": {}
    },
    {
     "output_type": "display_data",
     "data": {
      "text/plain": "   subject_id   hadm_id  ...              dispensation fill_quantity\n0    17868682  22726960  ...  Distribution-Floor Stock           NaN\n\n[1 rows x 27 columns]",
      "text/html": "<div>\n<style scoped>\n    .dataframe tbody tr th:only-of-type {\n        vertical-align: middle;\n    }\n\n    .dataframe tbody tr th {\n        vertical-align: top;\n    }\n\n    .dataframe thead th {\n        text-align: right;\n    }\n</style>\n<table border=\"1\" class=\"dataframe\">\n  <thead>\n    <tr style=\"text-align: right;\">\n      <th></th>\n      <th>subject_id</th>\n      <th>hadm_id</th>\n      <th>pharmacy_id</th>\n      <th>poe_id</th>\n      <th>starttime</th>\n      <th>stoptime</th>\n      <th>medication</th>\n      <th>proc_type</th>\n      <th>status</th>\n      <th>entertime</th>\n      <th>verifiedtime</th>\n      <th>route</th>\n      <th>frequency</th>\n      <th>disp_sched</th>\n      <th>infusion_type</th>\n      <th>sliding_scale</th>\n      <th>lockout_interval</th>\n      <th>basal_rate</th>\n      <th>one_hr_max</th>\n      <th>doses_per_24_hrs</th>\n      <th>duration</th>\n      <th>duration_interval</th>\n      <th>expiration_value</th>\n      <th>expiration_unit</th>\n      <th>expirationdate</th>\n      <th>dispensation</th>\n      <th>fill_quantity</th>\n    </tr>\n  </thead>\n  <tbody>\n    <tr>\n      <th>0</th>\n      <td>17868682</td>\n      <td>22726960</td>\n      <td>2697460</td>\n      <td>17868682-19</td>\n      <td>2160-01-07 14:00:00</td>\n      <td>2160-01-07 14:00:00</td>\n      <td>NaN</td>\n      <td>IV Large Volume</td>\n      <td>Discontinued</td>\n      <td>2160-01-07 13:06:18</td>\n      <td>2160-01-07 13:06:18</td>\n      <td>IV</td>\n      <td>ASDIR</td>\n      <td>NaN</td>\n      <td>C</td>\n      <td>N</td>\n      <td>NaN</td>\n      <td>NaN</td>\n      <td>NaN</td>\n      <td>NaN</td>\n      <td>NaN</td>\n      <td>Ongoing</td>\n      <td>NaN</td>\n      <td>Enter on Label</td>\n      <td>NaN</td>\n      <td>Distribution-Floor Stock</td>\n      <td>NaN</td>\n    </tr>\n  </tbody>\n</table>\n</div>"
     },
     "metadata": {}
    }
   ],
   "source": [
    "display(dat_patients.iloc[0:1,:])\n",
    "display(dat_diagnose.iloc[0:1,:])\n",
    "display(dat_pharmacy.iloc[0:1,:])"
   ]
  },
  {
   "source": [
    "## 1. Define population\n",
    "Filter patients by all conditions associated with coronary syndromes\n",
    "\n",
    "<img src=\"https://i.ibb.co/LzmP3Hm/populations.png\" alt=\"populations\" border=\"0\">"
   ],
   "cell_type": "markdown",
   "metadata": {}
  },
  {
   "source": [
    "### {Search} `long_title` column from dic_diagnose by the keyword `coronary`"
   ],
   "cell_type": "markdown",
   "metadata": {}
  },
  {
   "cell_type": "code",
   "execution_count": 7,
   "metadata": {},
   "outputs": [
    {
     "output_type": "execute_result",
     "data": {
      "text/plain": [
       "       icd_code  icd_version                                         long_title\n",
       "4712       4111            9                     intermediate coronary syndrome\n",
       "4713      41181            9  acute coronary occlusion without myocardial in...\n",
       "4719      41400            9  coronary atherosclerosis of unspecified type o...\n",
       "4720      41401            9  coronary atherosclerosis of native coronary ar...\n",
       "4721      41402            9  coronary atherosclerosis of autologous vein by...\n",
       "...         ...          ...                                                ...\n",
       "99666     V4581            9                        aortocoronary bypass status\n",
       "99667     V4582            9  percutaneous transluminal coronary angioplasty...\n",
       "109648     Z951           10             presence of aortocoronary bypass graft\n",
       "109652     Z955           10  presence of coronary angioplasty implant and g...\n",
       "109743    Z9861           10                        coronary angioplasty status\n",
       "\n",
       "[134 rows x 3 columns]"
      ],
      "text/html": "<div>\n<style scoped>\n    .dataframe tbody tr th:only-of-type {\n        vertical-align: middle;\n    }\n\n    .dataframe tbody tr th {\n        vertical-align: top;\n    }\n\n    .dataframe thead th {\n        text-align: right;\n    }\n</style>\n<table border=\"1\" class=\"dataframe\">\n  <thead>\n    <tr style=\"text-align: right;\">\n      <th></th>\n      <th>icd_code</th>\n      <th>icd_version</th>\n      <th>long_title</th>\n    </tr>\n  </thead>\n  <tbody>\n    <tr>\n      <th>4712</th>\n      <td>4111</td>\n      <td>9</td>\n      <td>intermediate coronary syndrome</td>\n    </tr>\n    <tr>\n      <th>4713</th>\n      <td>41181</td>\n      <td>9</td>\n      <td>acute coronary occlusion without myocardial in...</td>\n    </tr>\n    <tr>\n      <th>4719</th>\n      <td>41400</td>\n      <td>9</td>\n      <td>coronary atherosclerosis of unspecified type o...</td>\n    </tr>\n    <tr>\n      <th>4720</th>\n      <td>41401</td>\n      <td>9</td>\n      <td>coronary atherosclerosis of native coronary ar...</td>\n    </tr>\n    <tr>\n      <th>4721</th>\n      <td>41402</td>\n      <td>9</td>\n      <td>coronary atherosclerosis of autologous vein by...</td>\n    </tr>\n    <tr>\n      <th>...</th>\n      <td>...</td>\n      <td>...</td>\n      <td>...</td>\n    </tr>\n    <tr>\n      <th>99666</th>\n      <td>V4581</td>\n      <td>9</td>\n      <td>aortocoronary bypass status</td>\n    </tr>\n    <tr>\n      <th>99667</th>\n      <td>V4582</td>\n      <td>9</td>\n      <td>percutaneous transluminal coronary angioplasty...</td>\n    </tr>\n    <tr>\n      <th>109648</th>\n      <td>Z951</td>\n      <td>10</td>\n      <td>presence of aortocoronary bypass graft</td>\n    </tr>\n    <tr>\n      <th>109652</th>\n      <td>Z955</td>\n      <td>10</td>\n      <td>presence of coronary angioplasty implant and g...</td>\n    </tr>\n    <tr>\n      <th>109743</th>\n      <td>Z9861</td>\n      <td>10</td>\n      <td>coronary angioplasty status</td>\n    </tr>\n  </tbody>\n</table>\n<p>134 rows × 3 columns</p>\n</div>"
     },
     "metadata": {},
     "execution_count": 7
    }
   ],
   "source": [
    "lst_icd = RWE.rwe_dataprep.df_search(dic_diagnose, 'long_title', 'coronary')\n",
    "lst_icd"
   ]
  },
  {
   "source": [
    "### {Drop} columns of `hospital dataset` that will not be used"
   ],
   "cell_type": "markdown",
   "metadata": {}
  },
  {
   "cell_type": "code",
   "execution_count": 8,
   "metadata": {},
   "outputs": [],
   "source": [
    "temp = RWE.rwe_dataprep.drop_df(dat_diagnose, choose_columns=['subject_id', 'icd_code'])"
   ]
  },
  {
   "source": [
    "### {Merge} search result (by `icd_code`) with the hospital dataset"
   ],
   "cell_type": "markdown",
   "metadata": {}
  },
  {
   "cell_type": "code",
   "execution_count": 9,
   "metadata": {},
   "outputs": [],
   "source": [
    "temp = RWE.rwe_dataprep.join_df(temp, lst_icd, how='inner', on='icd_code', trim='subject_id')"
   ]
  },
  {
   "source": [
    "### {Drop} columns from patient dataset that will not be used"
   ],
   "cell_type": "markdown",
   "metadata": {}
  },
  {
   "cell_type": "code",
   "execution_count": 10,
   "metadata": {},
   "outputs": [],
   "source": [
    "temp2 = RWE.rwe_dataprep.drop_df(dat_patients, choose_columns=['subject_id', 'gender', 'anchor_age', 'dod'])"
   ]
  },
  {
   "source": [
    "### {Merge} search result (by `subject_id`) with the patient dataset"
   ],
   "cell_type": "markdown",
   "metadata": {}
  },
  {
   "cell_type": "code",
   "execution_count": 11,
   "metadata": {},
   "outputs": [
    {
     "output_type": "execute_result",
     "data": {
      "text/plain": [
       "       subject_id gender  anchor_age         dod\n",
       "0        17872922      M          88  2141-03-27\n",
       "2        12201410      M          75         NaN\n",
       "6        12849817      M          65         NaN\n",
       "11       12292383      M          75         NaN\n",
       "17       18739672      M          71         NaN\n",
       "...           ...    ...         ...         ...\n",
       "73693    15335760      M          33  2144-08-05\n",
       "73694    17176505      M          79         NaN\n",
       "73695    18353395      M          73         NaN\n",
       "73696    17177034      M          75         NaN\n",
       "73697    13511499      M          62         NaN\n",
       "\n",
       "[35106 rows x 4 columns]"
      ],
      "text/html": "<div>\n<style scoped>\n    .dataframe tbody tr th:only-of-type {\n        vertical-align: middle;\n    }\n\n    .dataframe tbody tr th {\n        vertical-align: top;\n    }\n\n    .dataframe thead th {\n        text-align: right;\n    }\n</style>\n<table border=\"1\" class=\"dataframe\">\n  <thead>\n    <tr style=\"text-align: right;\">\n      <th></th>\n      <th>subject_id</th>\n      <th>gender</th>\n      <th>anchor_age</th>\n      <th>dod</th>\n    </tr>\n  </thead>\n  <tbody>\n    <tr>\n      <th>0</th>\n      <td>17872922</td>\n      <td>M</td>\n      <td>88</td>\n      <td>2141-03-27</td>\n    </tr>\n    <tr>\n      <th>2</th>\n      <td>12201410</td>\n      <td>M</td>\n      <td>75</td>\n      <td>NaN</td>\n    </tr>\n    <tr>\n      <th>6</th>\n      <td>12849817</td>\n      <td>M</td>\n      <td>65</td>\n      <td>NaN</td>\n    </tr>\n    <tr>\n      <th>11</th>\n      <td>12292383</td>\n      <td>M</td>\n      <td>75</td>\n      <td>NaN</td>\n    </tr>\n    <tr>\n      <th>17</th>\n      <td>18739672</td>\n      <td>M</td>\n      <td>71</td>\n      <td>NaN</td>\n    </tr>\n    <tr>\n      <th>...</th>\n      <td>...</td>\n      <td>...</td>\n      <td>...</td>\n      <td>...</td>\n    </tr>\n    <tr>\n      <th>73693</th>\n      <td>15335760</td>\n      <td>M</td>\n      <td>33</td>\n      <td>2144-08-05</td>\n    </tr>\n    <tr>\n      <th>73694</th>\n      <td>17176505</td>\n      <td>M</td>\n      <td>79</td>\n      <td>NaN</td>\n    </tr>\n    <tr>\n      <th>73695</th>\n      <td>18353395</td>\n      <td>M</td>\n      <td>73</td>\n      <td>NaN</td>\n    </tr>\n    <tr>\n      <th>73696</th>\n      <td>17177034</td>\n      <td>M</td>\n      <td>75</td>\n      <td>NaN</td>\n    </tr>\n    <tr>\n      <th>73697</th>\n      <td>13511499</td>\n      <td>M</td>\n      <td>62</td>\n      <td>NaN</td>\n    </tr>\n  </tbody>\n</table>\n<p>35106 rows × 4 columns</p>\n</div>"
     },
     "metadata": {},
     "execution_count": 11
    }
   ],
   "source": [
    "population = RWE.rwe_dataprep.join_df(temp, temp2, on='subject_id')\n",
    "population"
   ]
  },
  {
   "source": [
    "## 2. Define Outcome\n",
    "The outcome is defined based on the column `dod` information. The end result is the list of all-cause death with the coronary syndrome associated conditions. \n",
    "\n",
    "<img src=\"https://i.ibb.co/T2gt6KK/outcome.png\" alt=\"outcome\" border=\"0\">"
   ],
   "cell_type": "markdown",
   "metadata": {}
  },
  {
   "source": [
    "### {Filter} `dod` column for non-missing values (binary output)"
   ],
   "cell_type": "markdown",
   "metadata": {}
  },
  {
   "cell_type": "code",
   "execution_count": 12,
   "metadata": {},
   "outputs": [
    {
     "output_type": "execute_result",
     "data": {
      "text/plain": [
       "       subject_id gender  anchor_age         dod  dod_bin\n",
       "0        17872922      M          88  2141-03-27     True\n",
       "2        12201410      M          75         NaN    False\n",
       "6        12849817      M          65         NaN    False\n",
       "11       12292383      M          75         NaN    False\n",
       "17       18739672      M          71         NaN    False\n",
       "...           ...    ...         ...         ...      ...\n",
       "73693    15335760      M          33  2144-08-05     True\n",
       "73694    17176505      M          79         NaN    False\n",
       "73695    18353395      M          73         NaN    False\n",
       "73696    17177034      M          75         NaN    False\n",
       "73697    13511499      M          62         NaN    False\n",
       "\n",
       "[35106 rows x 5 columns]"
      ],
      "text/html": "<div>\n<style scoped>\n    .dataframe tbody tr th:only-of-type {\n        vertical-align: middle;\n    }\n\n    .dataframe tbody tr th {\n        vertical-align: top;\n    }\n\n    .dataframe thead th {\n        text-align: right;\n    }\n</style>\n<table border=\"1\" class=\"dataframe\">\n  <thead>\n    <tr style=\"text-align: right;\">\n      <th></th>\n      <th>subject_id</th>\n      <th>gender</th>\n      <th>anchor_age</th>\n      <th>dod</th>\n      <th>dod_bin</th>\n    </tr>\n  </thead>\n  <tbody>\n    <tr>\n      <th>0</th>\n      <td>17872922</td>\n      <td>M</td>\n      <td>88</td>\n      <td>2141-03-27</td>\n      <td>True</td>\n    </tr>\n    <tr>\n      <th>2</th>\n      <td>12201410</td>\n      <td>M</td>\n      <td>75</td>\n      <td>NaN</td>\n      <td>False</td>\n    </tr>\n    <tr>\n      <th>6</th>\n      <td>12849817</td>\n      <td>M</td>\n      <td>65</td>\n      <td>NaN</td>\n      <td>False</td>\n    </tr>\n    <tr>\n      <th>11</th>\n      <td>12292383</td>\n      <td>M</td>\n      <td>75</td>\n      <td>NaN</td>\n      <td>False</td>\n    </tr>\n    <tr>\n      <th>17</th>\n      <td>18739672</td>\n      <td>M</td>\n      <td>71</td>\n      <td>NaN</td>\n      <td>False</td>\n    </tr>\n    <tr>\n      <th>...</th>\n      <td>...</td>\n      <td>...</td>\n      <td>...</td>\n      <td>...</td>\n      <td>...</td>\n    </tr>\n    <tr>\n      <th>73693</th>\n      <td>15335760</td>\n      <td>M</td>\n      <td>33</td>\n      <td>2144-08-05</td>\n      <td>True</td>\n    </tr>\n    <tr>\n      <th>73694</th>\n      <td>17176505</td>\n      <td>M</td>\n      <td>79</td>\n      <td>NaN</td>\n      <td>False</td>\n    </tr>\n    <tr>\n      <th>73695</th>\n      <td>18353395</td>\n      <td>M</td>\n      <td>73</td>\n      <td>NaN</td>\n      <td>False</td>\n    </tr>\n    <tr>\n      <th>73696</th>\n      <td>17177034</td>\n      <td>M</td>\n      <td>75</td>\n      <td>NaN</td>\n      <td>False</td>\n    </tr>\n    <tr>\n      <th>73697</th>\n      <td>13511499</td>\n      <td>M</td>\n      <td>62</td>\n      <td>NaN</td>\n      <td>False</td>\n    </tr>\n  </tbody>\n</table>\n<p>35106 rows × 5 columns</p>\n</div>"
     },
     "metadata": {},
     "execution_count": 12
    }
   ],
   "source": [
    "# list of all-cause death with the coronary syndrome associated conditions\n",
    "outcome = RWE.rwe_dataprep.filter_df(population, 'dod', method='0')\n",
    "outcome"
   ]
  },
  {
   "source": [
    "## 3. Define exposure\n",
    "The exposure is defined based on the `medication` column\n",
    "\n",
    "<img src=\"https://i.ibb.co/7SZ5Y53/exposure.png\" alt=\"exposure\" border=\"0\">"
   ],
   "cell_type": "markdown",
   "metadata": {}
  },
  {
   "source": [
    "### Filter pharmacy list by any drug analog of Azithromycin"
   ],
   "cell_type": "markdown",
   "metadata": {}
  },
  {
   "source": [
    "### {Drop} columns from `pharmacy dataset` that will not be used"
   ],
   "cell_type": "markdown",
   "metadata": {}
  },
  {
   "cell_type": "code",
   "execution_count": 13,
   "metadata": {},
   "outputs": [],
   "source": [
    "temp = RWE.rwe_dataprep.drop_df(dat_pharmacy, choose_columns=['subject_id', 'medication'])"
   ]
  },
  {
   "source": [
    "### {Search} `medication` column from dat_pharmacy by the keyword `thromycin`"
   ],
   "cell_type": "markdown",
   "metadata": {}
  },
  {
   "cell_type": "code",
   "execution_count": 14,
   "metadata": {},
   "outputs": [
    {
     "output_type": "execute_result",
     "data": {
      "text/plain": [
       "   subject_id                   medication  medication_bin\n",
       "0    17868682                          NaN           False\n",
       "1    17868682  pneumococcal vac polyvalent           False\n",
       "2    17868682  sodium chloride 0.9%  flush           False\n",
       "3    17868682                  ondansetron           False\n",
       "4    17868682             morphine sulfate           False"
      ],
      "text/html": "<div>\n<style scoped>\n    .dataframe tbody tr th:only-of-type {\n        vertical-align: middle;\n    }\n\n    .dataframe tbody tr th {\n        vertical-align: top;\n    }\n\n    .dataframe thead th {\n        text-align: right;\n    }\n</style>\n<table border=\"1\" class=\"dataframe\">\n  <thead>\n    <tr style=\"text-align: right;\">\n      <th></th>\n      <th>subject_id</th>\n      <th>medication</th>\n      <th>medication_bin</th>\n    </tr>\n  </thead>\n  <tbody>\n    <tr>\n      <th>0</th>\n      <td>17868682</td>\n      <td>NaN</td>\n      <td>False</td>\n    </tr>\n    <tr>\n      <th>1</th>\n      <td>17868682</td>\n      <td>pneumococcal vac polyvalent</td>\n      <td>False</td>\n    </tr>\n    <tr>\n      <th>2</th>\n      <td>17868682</td>\n      <td>sodium chloride 0.9%  flush</td>\n      <td>False</td>\n    </tr>\n    <tr>\n      <th>3</th>\n      <td>17868682</td>\n      <td>ondansetron</td>\n      <td>False</td>\n    </tr>\n    <tr>\n      <th>4</th>\n      <td>17868682</td>\n      <td>morphine sulfate</td>\n      <td>False</td>\n    </tr>\n  </tbody>\n</table>\n</div>"
     },
     "metadata": {},
     "execution_count": 14
    }
   ],
   "source": [
    "# list of drug names containing thromycin\n",
    "temp = RWE.rwe_dataprep.df_search(temp, 'medication', 'thromycin', return_both=True)\n",
    "temp.head()"
   ]
  },
  {
   "source": [
    "### {Aggregate} searched dat_pharmacy by `subject_id` column based on the passed dictionary relation"
   ],
   "cell_type": "markdown",
   "metadata": {}
  },
  {
   "cell_type": "code",
   "execution_count": 15,
   "metadata": {},
   "outputs": [
    {
     "output_type": "execute_result",
     "data": {
      "text/plain": [
       "            medication_bin\n",
       "subject_id                \n",
       "10000019              True\n",
       "10000032             False\n",
       "10000044              True\n",
       "10000074              True\n",
       "10000084             False\n",
       "...                    ...\n",
       "19999768              True\n",
       "19999784             False\n",
       "19999828             False\n",
       "19999840             False\n",
       "19999987             False\n",
       "\n",
       "[225258 rows x 1 columns]"
      ],
      "text/html": "<div>\n<style scoped>\n    .dataframe tbody tr th:only-of-type {\n        vertical-align: middle;\n    }\n\n    .dataframe tbody tr th {\n        vertical-align: top;\n    }\n\n    .dataframe thead th {\n        text-align: right;\n    }\n</style>\n<table border=\"1\" class=\"dataframe\">\n  <thead>\n    <tr style=\"text-align: right;\">\n      <th></th>\n      <th>medication_bin</th>\n    </tr>\n    <tr>\n      <th>subject_id</th>\n      <th></th>\n    </tr>\n  </thead>\n  <tbody>\n    <tr>\n      <th>10000019</th>\n      <td>True</td>\n    </tr>\n    <tr>\n      <th>10000032</th>\n      <td>False</td>\n    </tr>\n    <tr>\n      <th>10000044</th>\n      <td>True</td>\n    </tr>\n    <tr>\n      <th>10000074</th>\n      <td>True</td>\n    </tr>\n    <tr>\n      <th>10000084</th>\n      <td>False</td>\n    </tr>\n    <tr>\n      <th>...</th>\n      <td>...</td>\n    </tr>\n    <tr>\n      <th>19999768</th>\n      <td>True</td>\n    </tr>\n    <tr>\n      <th>19999784</th>\n      <td>False</td>\n    </tr>\n    <tr>\n      <th>19999828</th>\n      <td>False</td>\n    </tr>\n    <tr>\n      <th>19999840</th>\n      <td>False</td>\n    </tr>\n    <tr>\n      <th>19999987</th>\n      <td>False</td>\n    </tr>\n  </tbody>\n</table>\n<p>225258 rows × 1 columns</p>\n</div>"
     },
     "metadata": {},
     "execution_count": 15
    }
   ],
   "source": [
    "temp = RWE.rwe_dataprep.agg_df(temp, 'subject_id', {'medication_bin':'choose'})\n",
    "temp"
   ]
  },
  {
   "source": [
    "### Create microdata"
   ],
   "cell_type": "markdown",
   "metadata": {}
  },
  {
   "cell_type": "code",
   "execution_count": 16,
   "metadata": {},
   "outputs": [
    {
     "output_type": "execute_result",
     "data": {
      "text/plain": [
       "       subject_id  medication_bin gender  anchor_age         dod  dod_bin\n",
       "0        10000764           False      M          86         NaN    False\n",
       "1        10000980           False      F          73         NaN    False\n",
       "2        10001176           False      F          64         NaN    False\n",
       "3        10001884            True      F          68  2131-01-20     True\n",
       "4        10002013           False      F          53         NaN    False\n",
       "...           ...             ...    ...         ...         ...      ...\n",
       "34035    19997473           False      F          82         NaN    False\n",
       "34036    19997911           False      F          79         NaN    False\n",
       "34037    19998497           False      F          82         NaN    False\n",
       "34038    19999379           False      F          91         NaN    False\n",
       "34039    19999987           False      F          57         NaN    False\n",
       "\n",
       "[34040 rows x 6 columns]"
      ],
      "text/html": "<div>\n<style scoped>\n    .dataframe tbody tr th:only-of-type {\n        vertical-align: middle;\n    }\n\n    .dataframe tbody tr th {\n        vertical-align: top;\n    }\n\n    .dataframe thead th {\n        text-align: right;\n    }\n</style>\n<table border=\"1\" class=\"dataframe\">\n  <thead>\n    <tr style=\"text-align: right;\">\n      <th></th>\n      <th>subject_id</th>\n      <th>medication_bin</th>\n      <th>gender</th>\n      <th>anchor_age</th>\n      <th>dod</th>\n      <th>dod_bin</th>\n    </tr>\n  </thead>\n  <tbody>\n    <tr>\n      <th>0</th>\n      <td>10000764</td>\n      <td>False</td>\n      <td>M</td>\n      <td>86</td>\n      <td>NaN</td>\n      <td>False</td>\n    </tr>\n    <tr>\n      <th>1</th>\n      <td>10000980</td>\n      <td>False</td>\n      <td>F</td>\n      <td>73</td>\n      <td>NaN</td>\n      <td>False</td>\n    </tr>\n    <tr>\n      <th>2</th>\n      <td>10001176</td>\n      <td>False</td>\n      <td>F</td>\n      <td>64</td>\n      <td>NaN</td>\n      <td>False</td>\n    </tr>\n    <tr>\n      <th>3</th>\n      <td>10001884</td>\n      <td>True</td>\n      <td>F</td>\n      <td>68</td>\n      <td>2131-01-20</td>\n      <td>True</td>\n    </tr>\n    <tr>\n      <th>4</th>\n      <td>10002013</td>\n      <td>False</td>\n      <td>F</td>\n      <td>53</td>\n      <td>NaN</td>\n      <td>False</td>\n    </tr>\n    <tr>\n      <th>...</th>\n      <td>...</td>\n      <td>...</td>\n      <td>...</td>\n      <td>...</td>\n      <td>...</td>\n      <td>...</td>\n    </tr>\n    <tr>\n      <th>34035</th>\n      <td>19997473</td>\n      <td>False</td>\n      <td>F</td>\n      <td>82</td>\n      <td>NaN</td>\n      <td>False</td>\n    </tr>\n    <tr>\n      <th>34036</th>\n      <td>19997911</td>\n      <td>False</td>\n      <td>F</td>\n      <td>79</td>\n      <td>NaN</td>\n      <td>False</td>\n    </tr>\n    <tr>\n      <th>34037</th>\n      <td>19998497</td>\n      <td>False</td>\n      <td>F</td>\n      <td>82</td>\n      <td>NaN</td>\n      <td>False</td>\n    </tr>\n    <tr>\n      <th>34038</th>\n      <td>19999379</td>\n      <td>False</td>\n      <td>F</td>\n      <td>91</td>\n      <td>NaN</td>\n      <td>False</td>\n    </tr>\n    <tr>\n      <th>34039</th>\n      <td>19999987</td>\n      <td>False</td>\n      <td>F</td>\n      <td>57</td>\n      <td>NaN</td>\n      <td>False</td>\n    </tr>\n  </tbody>\n</table>\n<p>34040 rows × 6 columns</p>\n</div>"
     },
     "metadata": {},
     "execution_count": 16
    }
   ],
   "source": [
    "microdata = RWE.rwe_dataprep.join_df(temp, outcome, on='subject_id')\n",
    "microdata"
   ]
  },
  {
   "source": [
    "### Quality check for potential overlap"
   ],
   "cell_type": "markdown",
   "metadata": {}
  },
  {
   "cell_type": "code",
   "execution_count": 17,
   "metadata": {},
   "outputs": [
    {
     "output_type": "execute_result",
     "data": {
      "text/plain": [
       "Empty DataFrame\n",
       "Columns: [subject_id]\n",
       "Index: []"
      ],
      "text/html": "<div>\n<style scoped>\n    .dataframe tbody tr th:only-of-type {\n        vertical-align: middle;\n    }\n\n    .dataframe tbody tr th {\n        vertical-align: top;\n    }\n\n    .dataframe thead th {\n        text-align: right;\n    }\n</style>\n<table border=\"1\" class=\"dataframe\">\n  <thead>\n    <tr style=\"text-align: right;\">\n      <th></th>\n      <th>subject_id</th>\n    </tr>\n  </thead>\n  <tbody>\n  </tbody>\n</table>\n</div>"
     },
     "metadata": {},
     "execution_count": 17
    }
   ],
   "source": [
    "overlap = RWE.rwe_dataprep.join_df(microdata[microdata['medication_bin'] == True][['subject_id']].drop_duplicates(), microdata[microdata['medication_bin'] == False][['subject_id']].drop_duplicates(), on='subject_id')\n",
    "overlap"
   ]
  },
  {
   "cell_type": "code",
   "execution_count": 18,
   "metadata": {},
   "outputs": [
    {
     "output_type": "stream",
     "name": "stdout",
     "text": [
      "There are 0 individuals who has history taking the analogs but also has taken other drugs\n"
     ]
    }
   ],
   "source": [
    "print(f'There are {overlap.size} individuals who has history taking the analogs but also has taken other drugs')"
   ]
  },
  {
   "source": [
    "### Conduct general {QA} on `microdata`"
   ],
   "cell_type": "markdown",
   "metadata": {}
  },
  {
   "cell_type": "code",
   "execution_count": 19,
   "metadata": {},
   "outputs": [],
   "source": [
    "microdata = RWE.rwe_dataprep.qa_df(microdata, exposure='medication_bin', outcome='dod_bin')"
   ]
  },
  {
   "source": [
    "### Column Stats"
   ],
   "cell_type": "markdown",
   "metadata": {}
  },
  {
   "cell_type": "code",
   "execution_count": 20,
   "metadata": {},
   "outputs": [
    {
     "output_type": "execute_result",
     "data": {
      "text/plain": [
       "        subject_id  medication_bin  anchor_age   dod  dod_bin\n",
       "gender                                                       \n",
       "F            12142           12142       12142  1224    12142\n",
       "M            21898           21898       21898  1873    21898"
      ],
      "text/html": "<div>\n<style scoped>\n    .dataframe tbody tr th:only-of-type {\n        vertical-align: middle;\n    }\n\n    .dataframe tbody tr th {\n        vertical-align: top;\n    }\n\n    .dataframe thead th {\n        text-align: right;\n    }\n</style>\n<table border=\"1\" class=\"dataframe\">\n  <thead>\n    <tr style=\"text-align: right;\">\n      <th></th>\n      <th>subject_id</th>\n      <th>medication_bin</th>\n      <th>anchor_age</th>\n      <th>dod</th>\n      <th>dod_bin</th>\n    </tr>\n    <tr>\n      <th>gender</th>\n      <th></th>\n      <th></th>\n      <th></th>\n      <th></th>\n      <th></th>\n    </tr>\n  </thead>\n  <tbody>\n    <tr>\n      <th>F</th>\n      <td>12142</td>\n      <td>12142</td>\n      <td>12142</td>\n      <td>1224</td>\n      <td>12142</td>\n    </tr>\n    <tr>\n      <th>M</th>\n      <td>21898</td>\n      <td>21898</td>\n      <td>21898</td>\n      <td>1873</td>\n      <td>21898</td>\n    </tr>\n  </tbody>\n</table>\n</div>"
     },
     "metadata": {},
     "execution_count": 20
    }
   ],
   "source": [
    "microdata.groupby('gender').count()"
   ]
  },
  {
   "cell_type": "code",
   "execution_count": 21,
   "metadata": {},
   "outputs": [
    {
     "output_type": "execute_result",
     "data": {
      "text/plain": [
       "         subject_id  medication_bin  gender  anchor_age   dod\n",
       "dod_bin                                                      \n",
       "0             30943           30943   30943       30943     0\n",
       "1              3097            3097    3097        3097  3097"
      ],
      "text/html": "<div>\n<style scoped>\n    .dataframe tbody tr th:only-of-type {\n        vertical-align: middle;\n    }\n\n    .dataframe tbody tr th {\n        vertical-align: top;\n    }\n\n    .dataframe thead th {\n        text-align: right;\n    }\n</style>\n<table border=\"1\" class=\"dataframe\">\n  <thead>\n    <tr style=\"text-align: right;\">\n      <th></th>\n      <th>subject_id</th>\n      <th>medication_bin</th>\n      <th>gender</th>\n      <th>anchor_age</th>\n      <th>dod</th>\n    </tr>\n    <tr>\n      <th>dod_bin</th>\n      <th></th>\n      <th></th>\n      <th></th>\n      <th></th>\n      <th></th>\n    </tr>\n  </thead>\n  <tbody>\n    <tr>\n      <th>0</th>\n      <td>30943</td>\n      <td>30943</td>\n      <td>30943</td>\n      <td>30943</td>\n      <td>0</td>\n    </tr>\n    <tr>\n      <th>1</th>\n      <td>3097</td>\n      <td>3097</td>\n      <td>3097</td>\n      <td>3097</td>\n      <td>3097</td>\n    </tr>\n  </tbody>\n</table>\n</div>"
     },
     "metadata": {},
     "execution_count": 21
    }
   ],
   "source": [
    "microdata.groupby('dod_bin').count()"
   ]
  },
  {
   "cell_type": "code",
   "execution_count": 22,
   "metadata": {},
   "outputs": [
    {
     "output_type": "execute_result",
     "data": {
      "text/plain": [
       "                subject_id  gender  anchor_age   dod  dod_bin\n",
       "medication_bin                                               \n",
       "False                29263   29263       29263  2301    29263\n",
       "True                  4777    4777        4777   796     4777"
      ],
      "text/html": "<div>\n<style scoped>\n    .dataframe tbody tr th:only-of-type {\n        vertical-align: middle;\n    }\n\n    .dataframe tbody tr th {\n        vertical-align: top;\n    }\n\n    .dataframe thead th {\n        text-align: right;\n    }\n</style>\n<table border=\"1\" class=\"dataframe\">\n  <thead>\n    <tr style=\"text-align: right;\">\n      <th></th>\n      <th>subject_id</th>\n      <th>gender</th>\n      <th>anchor_age</th>\n      <th>dod</th>\n      <th>dod_bin</th>\n    </tr>\n    <tr>\n      <th>medication_bin</th>\n      <th></th>\n      <th></th>\n      <th></th>\n      <th></th>\n      <th></th>\n    </tr>\n  </thead>\n  <tbody>\n    <tr>\n      <th>False</th>\n      <td>29263</td>\n      <td>29263</td>\n      <td>29263</td>\n      <td>2301</td>\n      <td>29263</td>\n    </tr>\n    <tr>\n      <th>True</th>\n      <td>4777</td>\n      <td>4777</td>\n      <td>4777</td>\n      <td>796</td>\n      <td>4777</td>\n    </tr>\n  </tbody>\n</table>\n</div>"
     },
     "metadata": {},
     "execution_count": 22
    }
   ],
   "source": [
    "microdata.groupby('medication_bin').count()"
   ]
  },
  {
   "source": [
    "## Causal Inference Stage"
   ],
   "cell_type": "markdown",
   "metadata": {}
  },
  {
   "cell_type": "code",
   "execution_count": 23,
   "metadata": {},
   "outputs": [],
   "source": [
    "SW = RWE.rwe_inference.showWhy(df=microdata, treatment='medication_bin', outcome='dod_bin', common_causes=['gender', 'anchor_age'], graph=None)"
   ]
  },
  {
   "cell_type": "code",
   "execution_count": 24,
   "metadata": {},
   "outputs": [
    {
     "output_type": "stream",
     "name": "stdout",
     "text": [
      "Estimand type: nonparametric-ate\n\n### Estimand : 1\nEstimand name: backdoor\nEstimand expression:\n        d                                                \n─────────────────(Expectation(dod_bin|gender,anchor_age))\nd[medication_bin]                                        \nEstimand assumption 1, Unconfoundedness: If U→{medication_bin} and U→dod_bin then P(dod_bin|medication_bin,gender,anchor_age,U) = P(dod_bin|medication_bin,gender,anchor_age)\n\n### Estimand : 2\nEstimand name: iv\nNo such variable found!\n\n### Estimand : 3\nEstimand name: frontdoor\nNo such variable found!\n\n"
     ]
    }
   ],
   "source": [
    "SW.dowhy_identify()"
   ]
  },
  {
   "cell_type": "code",
   "execution_count": 25,
   "metadata": {},
   "outputs": [
    {
     "output_type": "stream",
     "name": "stdout",
     "text": [
      "*** Causal Estimate ***\n\n## Identified estimand\nEstimand type: nonparametric-ate\n\n### Estimand : 1\nEstimand name: backdoor\nEstimand expression:\n        d                                                \n─────────────────(Expectation(dod_bin|gender,anchor_age))\nd[medication_bin]                                        \nEstimand assumption 1, Unconfoundedness: If U→{medication_bin} and U→dod_bin then P(dod_bin|medication_bin,gender,anchor_age,U) = P(dod_bin|medication_bin,gender,anchor_age)\n\n## Realized estimand\nb: dod_bin~medication_bin+gender+anchor_age\nTarget units: att\n\n## Estimate\nMean value: 0.13062591584676575\n\n"
     ]
    }
   ],
   "source": [
    "SW.dowhy_estimate('psm', 'att')"
   ]
  },
  {
   "cell_type": "code",
   "execution_count": 26,
   "metadata": {},
   "outputs": [
    {
     "output_type": "stream",
     "name": "stdout",
     "text": [
      "binary_flip binary_flip\n",
      "Refute: Add a Random Common Cause\n",
      "Estimated effect:0.13062591584676575\n",
      "New effect:0.08080385178982626\n",
      "\n",
      "Refute: Add an Unobserved Common Cause\n",
      "Estimated effect:0.13062591584676575\n",
      "New effect:0.05005983246908656\n",
      "\n",
      "Refute: Use a Placebo Treatment\n",
      "Estimated effect:0.13062591584676575\n",
      "New effect:-0.014758216453841327\n",
      "p value:0.38654188381190546\n",
      "\n",
      "Refute: Use a subset of data\n",
      "Estimated effect:0.13062591584676575\n",
      "New effect:0.11151873520941541\n",
      "p value:0.04925626303363695\n",
      "\n"
     ]
    }
   ],
   "source": [
    "SW.dowhy_refute(exposure_is_linear=False, outcome_is_linear=False)"
   ]
  },
  {
   "source": [
    "### End of notebook"
   ],
   "cell_type": "markdown",
   "metadata": {}
  }
 ]
}