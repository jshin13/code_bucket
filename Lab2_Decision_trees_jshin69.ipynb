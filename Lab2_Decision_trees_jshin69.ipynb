{
  "nbformat": 4,
  "nbformat_minor": 0,
  "metadata": {
    "colab": {
      "name": "Lab2_Decision_trees_jshin69.ipynb",
      "provenance": [],
      "collapsed_sections": [],
      "toc_visible": true,
      "include_colab_link": true
    },
    "kernelspec": {
      "name": "python3",
      "display_name": "Python 3"
    }
  },
  "cells": [
    {
      "cell_type": "markdown",
      "metadata": {
        "id": "view-in-github",
        "colab_type": "text"
      },
      "source": [
        "<a href=\"https://colab.research.google.com/github/jshin13/coursework/blob/main/Lab2_Decision_trees_jshin69.ipynb\" target=\"_parent\"><img src=\"https://colab.research.google.com/assets/colab-badge.svg\" alt=\"Open In Colab\"/></a>"
      ]
    },
    {
      "cell_type": "markdown",
      "metadata": {
        "id": "eoJKQZR2N_dl"
      },
      "source": [
        "# Lab 2: Decision trees - The CART algorithm\n",
        "\n",
        "In this lab, you will be programming your own decision tree CART algorithm with Gini criterion. \n",
        "\n",
        "In the following lines, complete the functions replacing the comments # YOUR CODE GOES HERE or the variables equal to 'None'  with your code.\n",
        "\n",
        "To evaluate the algorithm we will be working with the [Early stage diabetes risk prediction dataset](https://archive.ics.uci.edu/ml/datasets/Early+stage+diabetes+risk+prediction+dataset.) containing predictor variables about patients with diabetes and controls. \n"
      ]
    },
    {
      "cell_type": "markdown",
      "metadata": {
        "id": "1eoCMLobShUO"
      },
      "source": [
        "**0. Moving the lab to your folder**\n",
        "\n",
        "Copy this notebook to your personal directory"
      ]
    },
    {
      "cell_type": "code",
      "metadata": {
        "id": "UfNdDiRiOGsi"
      },
      "source": [
        "# Library import. Feel free to add more libraries that you may use in your code\n",
        "\n",
        "import urllib.request\n",
        "import pandas as pd\n",
        "from pandas.api.types import is_numeric_dtype\n",
        "import numpy as np"
      ],
      "execution_count": 1,
      "outputs": []
    },
    {
      "cell_type": "markdown",
      "metadata": {
        "id": "udZpB3DuxZ7M"
      },
      "source": [
        "**1. Data Loading**"
      ]
    },
    {
      "cell_type": "code",
      "metadata": {
        "id": "7rZ6eVhaOHr9"
      },
      "source": [
        "sData='http://archive.ics.uci.edu/ml/machine-learning-databases/00529/diabetes_data_upload.csv'\n",
        "urllib.request.urlretrieve(sData,'./datafile.csv') # The data is stored in your drive folder under the name 'datafile.csv'\n",
        "df=pd.read_csv('./datafile.csv')"
      ],
      "execution_count": 2,
      "outputs": []
    },
    {
      "cell_type": "markdown",
      "metadata": {
        "id": "sdUigUd_xi77"
      },
      "source": [
        "If you print the head of the dataframe, you can observe the different predictor variables (Age, Gender, Polyuria, etc) and the labels of the first five observations"
      ]
    },
    {
      "cell_type": "code",
      "metadata": {
        "id": "VksvkUM6OLOp",
        "colab": {
          "base_uri": "https://localhost:8080/",
          "height": 221
        },
        "outputId": "110fa6e8-9932-4a8a-f93f-bfefef486142"
      },
      "source": [
        "df.head()"
      ],
      "execution_count": 3,
      "outputs": [
        {
          "output_type": "execute_result",
          "data": {
            "text/html": [
              "<div>\n",
              "<style scoped>\n",
              "    .dataframe tbody tr th:only-of-type {\n",
              "        vertical-align: middle;\n",
              "    }\n",
              "\n",
              "    .dataframe tbody tr th {\n",
              "        vertical-align: top;\n",
              "    }\n",
              "\n",
              "    .dataframe thead th {\n",
              "        text-align: right;\n",
              "    }\n",
              "</style>\n",
              "<table border=\"1\" class=\"dataframe\">\n",
              "  <thead>\n",
              "    <tr style=\"text-align: right;\">\n",
              "      <th></th>\n",
              "      <th>Age</th>\n",
              "      <th>Gender</th>\n",
              "      <th>Polyuria</th>\n",
              "      <th>Polydipsia</th>\n",
              "      <th>sudden weight loss</th>\n",
              "      <th>weakness</th>\n",
              "      <th>Polyphagia</th>\n",
              "      <th>Genital thrush</th>\n",
              "      <th>visual blurring</th>\n",
              "      <th>Itching</th>\n",
              "      <th>Irritability</th>\n",
              "      <th>delayed healing</th>\n",
              "      <th>partial paresis</th>\n",
              "      <th>muscle stiffness</th>\n",
              "      <th>Alopecia</th>\n",
              "      <th>Obesity</th>\n",
              "      <th>class</th>\n",
              "    </tr>\n",
              "  </thead>\n",
              "  <tbody>\n",
              "    <tr>\n",
              "      <th>0</th>\n",
              "      <td>40</td>\n",
              "      <td>Male</td>\n",
              "      <td>No</td>\n",
              "      <td>Yes</td>\n",
              "      <td>No</td>\n",
              "      <td>Yes</td>\n",
              "      <td>No</td>\n",
              "      <td>No</td>\n",
              "      <td>No</td>\n",
              "      <td>Yes</td>\n",
              "      <td>No</td>\n",
              "      <td>Yes</td>\n",
              "      <td>No</td>\n",
              "      <td>Yes</td>\n",
              "      <td>Yes</td>\n",
              "      <td>Yes</td>\n",
              "      <td>Positive</td>\n",
              "    </tr>\n",
              "    <tr>\n",
              "      <th>1</th>\n",
              "      <td>58</td>\n",
              "      <td>Male</td>\n",
              "      <td>No</td>\n",
              "      <td>No</td>\n",
              "      <td>No</td>\n",
              "      <td>Yes</td>\n",
              "      <td>No</td>\n",
              "      <td>No</td>\n",
              "      <td>Yes</td>\n",
              "      <td>No</td>\n",
              "      <td>No</td>\n",
              "      <td>No</td>\n",
              "      <td>Yes</td>\n",
              "      <td>No</td>\n",
              "      <td>Yes</td>\n",
              "      <td>No</td>\n",
              "      <td>Positive</td>\n",
              "    </tr>\n",
              "    <tr>\n",
              "      <th>2</th>\n",
              "      <td>41</td>\n",
              "      <td>Male</td>\n",
              "      <td>Yes</td>\n",
              "      <td>No</td>\n",
              "      <td>No</td>\n",
              "      <td>Yes</td>\n",
              "      <td>Yes</td>\n",
              "      <td>No</td>\n",
              "      <td>No</td>\n",
              "      <td>Yes</td>\n",
              "      <td>No</td>\n",
              "      <td>Yes</td>\n",
              "      <td>No</td>\n",
              "      <td>Yes</td>\n",
              "      <td>Yes</td>\n",
              "      <td>No</td>\n",
              "      <td>Positive</td>\n",
              "    </tr>\n",
              "    <tr>\n",
              "      <th>3</th>\n",
              "      <td>45</td>\n",
              "      <td>Male</td>\n",
              "      <td>No</td>\n",
              "      <td>No</td>\n",
              "      <td>Yes</td>\n",
              "      <td>Yes</td>\n",
              "      <td>Yes</td>\n",
              "      <td>Yes</td>\n",
              "      <td>No</td>\n",
              "      <td>Yes</td>\n",
              "      <td>No</td>\n",
              "      <td>Yes</td>\n",
              "      <td>No</td>\n",
              "      <td>No</td>\n",
              "      <td>No</td>\n",
              "      <td>No</td>\n",
              "      <td>Positive</td>\n",
              "    </tr>\n",
              "    <tr>\n",
              "      <th>4</th>\n",
              "      <td>60</td>\n",
              "      <td>Male</td>\n",
              "      <td>Yes</td>\n",
              "      <td>Yes</td>\n",
              "      <td>Yes</td>\n",
              "      <td>Yes</td>\n",
              "      <td>Yes</td>\n",
              "      <td>No</td>\n",
              "      <td>Yes</td>\n",
              "      <td>Yes</td>\n",
              "      <td>Yes</td>\n",
              "      <td>Yes</td>\n",
              "      <td>Yes</td>\n",
              "      <td>Yes</td>\n",
              "      <td>Yes</td>\n",
              "      <td>Yes</td>\n",
              "      <td>Positive</td>\n",
              "    </tr>\n",
              "  </tbody>\n",
              "</table>\n",
              "</div>"
            ],
            "text/plain": [
              "   Age Gender Polyuria Polydipsia  ... muscle stiffness Alopecia Obesity     class\n",
              "0   40   Male       No        Yes  ...              Yes      Yes     Yes  Positive\n",
              "1   58   Male       No         No  ...               No      Yes      No  Positive\n",
              "2   41   Male      Yes         No  ...              Yes      Yes      No  Positive\n",
              "3   45   Male       No         No  ...               No       No      No  Positive\n",
              "4   60   Male      Yes        Yes  ...              Yes      Yes     Yes  Positive\n",
              "\n",
              "[5 rows x 17 columns]"
            ]
          },
          "metadata": {
            "tags": []
          },
          "execution_count": 3
        }
      ]
    },
    {
      "cell_type": "markdown",
      "metadata": {
        "id": "ycDAr3usyB2Z"
      },
      "source": [
        "In the next cell, you can print a single observation by selecting its correspondent series using iloc."
      ]
    },
    {
      "cell_type": "code",
      "metadata": {
        "id": "8AkBoxoEON-F",
        "colab": {
          "base_uri": "https://localhost:8080/"
        },
        "outputId": "211e6394-d3c9-45e8-b9a9-0b5d8b0c915d"
      },
      "source": [
        "series=df.iloc[3,:-1] # The last column is removed (it's the class)\n",
        "print(series)"
      ],
      "execution_count": 4,
      "outputs": [
        {
          "output_type": "stream",
          "text": [
            "Age                     45\n",
            "Gender                Male\n",
            "Polyuria                No\n",
            "Polydipsia              No\n",
            "sudden weight loss     Yes\n",
            "weakness               Yes\n",
            "Polyphagia             Yes\n",
            "Genital thrush         Yes\n",
            "visual blurring         No\n",
            "Itching                Yes\n",
            "Irritability            No\n",
            "delayed healing        Yes\n",
            "partial paresis         No\n",
            "muscle stiffness        No\n",
            "Alopecia                No\n",
            "Obesity                 No\n",
            "Name: 3, dtype: object\n"
          ],
          "name": "stdout"
        }
      ]
    },
    {
      "cell_type": "markdown",
      "metadata": {
        "id": "CQUNzL0YyQDR"
      },
      "source": [
        "**2. Dataset descriptors**\n",
        "**Data and notation used in the algorithm:**\n",
        "X is the training subset containing N observations\n",
        "Each observation, x_n is a vector containing the predictor variables (size M) for each observation.\n",
        "y_n is the label of x_n\n",
        "J: total number of classes\n",
        "N: total number of observations (number of training vectors)\n",
        "M: number of predictor variables (feature vector length)\n",
        "\n",
        "**TASK 1:** In the next cell, calculate the N, M and J."
      ]
    },
    {
      "cell_type": "code",
      "metadata": {
        "id": "aOz9I9P8ORC6",
        "colab": {
          "base_uri": "https://localhost:8080/"
        },
        "outputId": "96e69b9a-a7d9-4445-b00c-578792d99d82"
      },
      "source": [
        "#First steps: Determine the number of features, classes and observations \n",
        "#(replace 'None' with your code) (5 POINTS)\n",
        "y=df['class']\n",
        "N=df.shape[0]\n",
        "M=series.shape[0]\n",
        "J=len(df['class'].unique())\n",
        "\n",
        "print('Number of observations: '+str(N))\n",
        "print('Number of predictor variables: '+str(M))\n",
        "print('Number of classes: '+str(J))"
      ],
      "execution_count": 5,
      "outputs": [
        {
          "output_type": "stream",
          "text": [
            "Number of observations: 520\n",
            "Number of predictor variables: 16\n",
            "Number of classes: 2\n"
          ],
          "name": "stdout"
        }
      ]
    },
    {
      "cell_type": "markdown",
      "metadata": {
        "id": "urb6Q1dis3c1"
      },
      "source": [
        "Expected output:\n",
        "\n",
        "Number of observations: 520\n",
        "\n",
        "Number of predictor variables: 16\n",
        "\n",
        "Number of classes: 2\n"
      ]
    },
    {
      "cell_type": "markdown",
      "metadata": {
        "id": "VA7EKVC2zPl6"
      },
      "source": [
        "**TASK 2:** Split the data into, approx, 80% training and 20% testing (you can choose the first 80% observations as training and the rest as testing)"
      ]
    },
    {
      "cell_type": "code",
      "metadata": {
        "id": "_UNWqKZ9dubC",
        "colab": {
          "base_uri": "https://localhost:8080/"
        },
        "outputId": "d19efbb1-1013-4717-9d2e-52157b455bb0"
      },
      "source": [
        "# Split the data into, approx, 80% training and 20% testing\n",
        "#(replace 'None' with your code)  (5 POINTS)\n",
        "dfTrain=df[:round(M*0.8)]\n",
        "dfTest=df[round(M*0.8):]\n",
        "print(dfTrain.shape[0] + dfTest.shape[0])"
      ],
      "execution_count": 6,
      "outputs": [
        {
          "output_type": "stream",
          "text": [
            "520\n"
          ],
          "name": "stdout"
        }
      ]
    },
    {
      "cell_type": "markdown",
      "metadata": {
        "id": "6U5_jLb50IQz"
      },
      "source": [
        "# 3. The CART Algorithm\n",
        "*1.\tFind each predictor’s best split:*\n",
        "\n",
        "* a.\tDetermine if the predictor is categorical or numerical\n",
        "\n",
        "\n",
        "* b.\tFor each predictor, obtain unique values. \n",
        "\n",
        "* c.\tFor each predictor: using the unique values, go through each value to examine each predictor’s possible split point\n",
        "\n",
        "\n",
        "* - i.\tThe best split point (threshold) is the one that maximizes the splitting criterion1 (impurity gain) the most.\n",
        "\n",
        "* - ii.\tIn categorical predictors, we will have to consider a possible node for each category.\n",
        "\n",
        "\n",
        "*2.\tFind the predictor that provides the best split:*\n",
        "\n",
        "* a.\tSelect the predictor that maximizes the splitting criterion (the one that produces the highest impurity gain.\n",
        "\n",
        "\n",
        "*3.\tSplit the data X into two new nodes using the split point calculated in point 1 for the predictor selected in point 2.*\n",
        "\n",
        "\n",
        "*4.\tRepeat point 1 for each branch if stopping rules are not satisfied:*\n",
        "\n",
        "* a.\tStopping rules: \n",
        "* * i.\tMaximum tree depth (maximum number of nodes in a row)\n",
        "* * ii.\tAll the remaining training observations in a resulting branch belong to a single class (maximum purity)\n",
        "* * iii.\tAll observations in a node have the same predictor’s values: it is not possible to split more. \n",
        "* * iv.\tThe node size is less than the minimum node size (number of observations in a node)\n",
        "\n",
        "In the following cells, create the functions required for each point.\n"
      ]
    },
    {
      "cell_type": "markdown",
      "metadata": {
        "id": "FX5LGvXt6oCX"
      },
      "source": [
        "**TASK 3:** 1.a.  Determine if the predictor is categorical or numerical"
      ]
    },
    {
      "cell_type": "code",
      "metadata": {
        "id": "WMW-ldVNOVf2"
      },
      "source": [
        "# 1.a Is the class numerical? (5 POINTS)\n",
        "\n",
        "def is_numerical(df):\n",
        "    \"\"\"Test if values in a series are numeric and returns a vector with boolean results\"\"\"\n",
        "    #YOUR CODE GOES HERE\n",
        "    return dfTrain.iloc[0,:].astype(str).str.isnumeric().tolist()"
      ],
      "execution_count": 7,
      "outputs": []
    },
    {
      "cell_type": "code",
      "metadata": {
        "id": "BQT1Yn2_ObHZ",
        "colab": {
          "base_uri": "https://localhost:8080/"
        },
        "outputId": "142ee78d-1673-49e3-be09-c031634878e3"
      },
      "source": [
        "# Example\n",
        "is_numerical(dfTrain)"
      ],
      "execution_count": 8,
      "outputs": [
        {
          "output_type": "execute_result",
          "data": {
            "text/plain": [
              "[True,\n",
              " False,\n",
              " False,\n",
              " False,\n",
              " False,\n",
              " False,\n",
              " False,\n",
              " False,\n",
              " False,\n",
              " False,\n",
              " False,\n",
              " False,\n",
              " False,\n",
              " False,\n",
              " False,\n",
              " False,\n",
              " False]"
            ]
          },
          "metadata": {
            "tags": []
          },
          "execution_count": 8
        }
      ]
    },
    {
      "cell_type": "markdown",
      "metadata": {
        "id": "-eCA7SpV69RV"
      },
      "source": [
        "Expected output: \n",
        "\n",
        "\n",
        "[True,\n",
        " False,\n",
        " False,\n",
        " False,\n",
        " False,\n",
        " False,\n",
        " False,\n",
        " False,\n",
        " False,\n",
        " False,\n",
        " False,\n",
        " False,\n",
        " False,\n",
        " False,\n",
        " False,\n",
        " False]\n",
        "\n"
      ]
    },
    {
      "cell_type": "markdown",
      "metadata": {
        "id": "nLWuABnBZANG"
      },
      "source": [
        "**TASK 4:** 1.b. b.\tFor each predictor, obtain unique values (categories)"
      ]
    },
    {
      "cell_type": "code",
      "metadata": {
        "id": "VlLFRlZEOd9Y"
      },
      "source": [
        "#1.b Function to obtain categories per predictor (5 POINTS)\n",
        "def unique_values(df,column):\n",
        "  \"\"\"\n",
        "  This function returns a list with all the possible categories present in a predictor variable\n",
        "  Inputs: dataframe (df) and string containing the name of the predictor variable (column)\n",
        "  \"\"\"\n",
        "    #YOUR CODE GOES HERE\n",
        "  return df[column].unique().tolist()\n"
      ],
      "execution_count": 9,
      "outputs": []
    },
    {
      "cell_type": "code",
      "metadata": {
        "id": "509AMNtyP5GL",
        "colab": {
          "base_uri": "https://localhost:8080/"
        },
        "outputId": "eaea73c2-4f5b-4221-844b-4bf4b441b411"
      },
      "source": [
        "#Example\n",
        "categories=unique_values(df,'Gender')\n",
        "print(categories)\n",
        "print(categories[0])"
      ],
      "execution_count": 10,
      "outputs": [
        {
          "output_type": "stream",
          "text": [
            "['Male', 'Female']\n",
            "Male\n"
          ],
          "name": "stdout"
        }
      ]
    },
    {
      "cell_type": "markdown",
      "metadata": {
        "id": "KWpoPJzOZsna"
      },
      "source": [
        "Expected output:\n",
        "\n",
        "['Male' 'Female']\n",
        "\n",
        "Male"
      ]
    },
    {
      "cell_type": "markdown",
      "metadata": {
        "id": "DGV2wgW8Z2rj"
      },
      "source": [
        "**TASK 5:** 1.c.\tFor each predictor: using the unique values, go through each value to examine each predictor’s possible split point\n",
        "\n",
        "1. c. i. Search for the best split point (threshold) is the one that maximizes the splitting criterion1 (impurity gain) the most."
      ]
    },
    {
      "cell_type": "code",
      "metadata": {
        "id": "udkwjKO6QDbr"
      },
      "source": [
        "#1.c.i Generate the gini function that calculates impurity  (15 POINTS)\n",
        "def impurity_gini(df):\n",
        "  \"\"\"\n",
        "  Calculates and returns the Gini impurity of the input dataframe (df)\n",
        "  \"\"\"\n",
        "  #YOUR CODE GOES HERE\n",
        "  temp = []\n",
        "  for i in unique_values(df,'class'):\n",
        "      temp.append((df['class'] == i).sum() / df.shape[0])  \n",
        "  return 1 - sum(np.array(temp)**2)\n",
        "\n",
        "def impurity_gain(df, dfl, dfr):\n",
        "  \"\"\"\n",
        "  Calculates and returns the Impurity Gain considering that df is used to\n",
        "  calculate the initial impurity (or node t), and dfl and dfr to calculate the\n",
        "  weights and impurities of node L and R, respectively\n",
        "  \"\"\"\n",
        "  #YOUR CODE GOES HERE\n",
        "  return impurity_gini(df) - dfl.shape[0]/df.shape[0] * impurity_gini(dfl) - dfr.shape[0]/df.shape[0] * impurity_gini(dfr)  \n"
      ],
      "execution_count": 11,
      "outputs": []
    },
    {
      "cell_type": "code",
      "metadata": {
        "id": "5gZgb4XOVvT2",
        "colab": {
          "base_uri": "https://localhost:8080/"
        },
        "outputId": "60dd1de4-32f4-4a88-99fc-8f8e135944ae"
      },
      "source": [
        "impurity_gini(df)"
      ],
      "execution_count": 12,
      "outputs": [
        {
          "output_type": "execute_result",
          "data": {
            "text/plain": [
              "0.47337278106508873"
            ]
          },
          "metadata": {
            "tags": []
          },
          "execution_count": 12
        }
      ]
    },
    {
      "cell_type": "markdown",
      "metadata": {
        "id": "dlO2hSuubf4B"
      },
      "source": [
        "Expected output: 0.47337278106508873"
      ]
    },
    {
      "cell_type": "code",
      "metadata": {
        "id": "Zr7zqMj0Vwvz",
        "colab": {
          "base_uri": "https://localhost:8080/"
        },
        "outputId": "9149c353-307f-4d3f-c246-36e2e90234a5"
      },
      "source": [
        "impurity_gain(df,df,df)"
      ],
      "execution_count": 13,
      "outputs": [
        {
          "output_type": "execute_result",
          "data": {
            "text/plain": [
              "-0.47337278106508873"
            ]
          },
          "metadata": {
            "tags": []
          },
          "execution_count": 13
        }
      ]
    },
    {
      "cell_type": "markdown",
      "metadata": {
        "id": "81f2mXvublt4"
      },
      "source": [
        "Expected output: -0.47337278106508873"
      ]
    },
    {
      "cell_type": "markdown",
      "metadata": {
        "id": "hkX0wnf0gKvj"
      },
      "source": [
        "**TASK 6:** Search for the split point (or threshold) that provides the highest impurity gain in numerical predictor variables (for instance, 'Age' is a numerical variable)."
      ]
    },
    {
      "cell_type": "code",
      "metadata": {
        "id": "t_HzZaZEhlwm"
      },
      "source": [
        "#1.c.i Numerical split analysis (10 POINTS)\n",
        "def numerical_max_search(df, column):\n",
        "  \"\"\" \n",
        "  Returns the max impurity gain (ig_max) of the variable defined by 'column' in the df subset.\n",
        "  It also returns the value of the split point (category_max) that yields the \n",
        "  highest impurity gain for that variable.\n",
        "  \"\"\"\n",
        "  #YOUR CODE GOES HERE\n",
        "  ig_max = 0\n",
        "  category_max = 0\n",
        "\n",
        "  for i in unique_values(df,column):\n",
        "      dfl = df[df[column] <= i]\n",
        "      dfr = df[df[column] > i]\n",
        "      temp = impurity_gain(df,dfl,dfr)\n",
        "      if ig_max < temp:\n",
        "        ig_max = temp\n",
        "        category_max = i\n",
        "\n",
        "  return ig_max, category_max"
      ],
      "execution_count": 14,
      "outputs": []
    },
    {
      "cell_type": "code",
      "metadata": {
        "colab": {
          "base_uri": "https://localhost:8080/"
        },
        "id": "M0ZBaTlMiS3N",
        "outputId": "7635a0ea-0163-4f99-82b0-53ada6bb634e"
      },
      "source": [
        "numerical_max_search(df, 'Age')"
      ],
      "execution_count": 15,
      "outputs": [
        {
          "output_type": "execute_result",
          "data": {
            "text/plain": [
              "(0.015152664201645794, 34)"
            ]
          },
          "metadata": {
            "tags": []
          },
          "execution_count": 15
        }
      ]
    },
    {
      "cell_type": "markdown",
      "metadata": {
        "id": "WNbPyuF3cd-1"
      },
      "source": [
        "Expected Output:\n",
        "\n",
        "(0.015152664201645794, 34)"
      ]
    },
    {
      "cell_type": "markdown",
      "metadata": {
        "id": "qFPdcNYzfPxe"
      },
      "source": [
        "**TASK 7:** 1.c.\tFor each predictor: using the unique values, go through each value to examine each predictor’s possible split point\n",
        "\n",
        "1. c. ii.\tIn categorical predictors, we will have to consider a possible node for each category. This means that we have to perform a search of best split for each category. In the dataset that we are using, each of the categorical variables have only two possible categories (Yes or No - Male or Female). However, a code that consider more than 2 categories would be desirable."
      ]
    },
    {
      "cell_type": "code",
      "metadata": {
        "id": "rMgFaWs3WwOl"
      },
      "source": [
        "# 1.c.ii Categorical split analysis (10 POINTS)\n",
        "def categorical_max_search(df, column):\n",
        "    \"\"\" \n",
        "    Returns the max impurity gain (ig_max) of all categories in the variable defined by column\n",
        "    it also returns the name of the category that yields the highest impurity gain (category_max).\n",
        "    \"\"\"\n",
        "    #YOUR CODE GOES HERE\n",
        "    ig_max = 0\n",
        "    category_max = None\n",
        "\n",
        "#   if ~np.array(is_numerical(df[column])):\n",
        "    for i in unique_values(df, column):\n",
        "        dfl = df[df[column] == i]\n",
        "        dfr = df[df[column] != i]\n",
        "        temp = impurity_gain(df, dfl, dfr)\n",
        "\n",
        "        if ig_max < temp:\n",
        "            ig_max = temp\n",
        "            category_max = i\n",
        "\n",
        "    return ig_max, category_max"
      ],
      "execution_count": 38,
      "outputs": []
    },
    {
      "cell_type": "code",
      "metadata": {
        "id": "mgv0GgHVfAAI",
        "colab": {
          "base_uri": "https://localhost:8080/"
        },
        "outputId": "44022827-2567-4cd2-86b4-d78c11e08051"
      },
      "source": [
        "categorical_max_search(df, 'Polydipsia')"
      ],
      "execution_count": 39,
      "outputs": [
        {
          "output_type": "execute_result",
          "data": {
            "text/plain": [
              "(0.19922151623026904, 'No')"
            ]
          },
          "metadata": {
            "tags": []
          },
          "execution_count": 39
        }
      ]
    },
    {
      "cell_type": "markdown",
      "metadata": {
        "id": "GiTE0Xk_gyZF"
      },
      "source": [
        "Expected output: (0.19922151623026907, 'No')"
      ]
    },
    {
      "cell_type": "markdown",
      "metadata": {
        "id": "yVvBZLAUhubb"
      },
      "source": [
        "**TASK 8:** 2.\tUsing the previous functions, find the predictor that provides the best split: \n",
        "a.\tSelect the predictor that maximizes the splitting criterion (the one that produces the highest impurity gain).\n"
      ]
    },
    {
      "cell_type": "code",
      "metadata": {
        "id": "2kDBxHx1hQc6"
      },
      "source": [
        "# 2.a Find predictor that provides best split (10 POINTS)\n",
        "def find_max_predictor(df):\n",
        "  \"\"\"\n",
        "  This function finds the predictor variable (Max_predictor), category or threshold\n",
        "  (Max_category) and their associated impurity gain (Max_ig) in the input dataset (df)\n",
        "  using the previous functions \n",
        "  \"\"\"\n",
        "  #YOUR CODE GOES HERE\n",
        "  Max_ig = 0\n",
        "  Max_predictor = None\n",
        "  Max_category = None\n",
        "\n",
        "  for idx, i in enumerate(is_numerical(df)[:-1]): #exclude label from the list of predictor     \n",
        "      if i:\n",
        "        temp_ig, temp_cat = numerical_max_search(df, df.columns[idx]) # if numerical, do numerical search\n",
        "      else:\n",
        "        temp_ig, temp_cat = categorical_max_search(df, df.columns[idx]) # if not numerical, do categorical search \n",
        "\n",
        "      if Max_ig < temp_ig: # if better impurity gain\n",
        "          Max_ig = temp_ig # update max impurity gain\n",
        "          Max_predictor = df.columns[idx] # update max predictor\n",
        "          Max_category = temp_cat # update max category\n",
        "\n",
        "  return Max_ig, Max_predictor, Max_category"
      ],
      "execution_count": 95,
      "outputs": []
    },
    {
      "cell_type": "code",
      "metadata": {
        "id": "Jq7XSA5JomDU",
        "colab": {
          "base_uri": "https://localhost:8080/"
        },
        "outputId": "f0ff0a21-ee10-46ae-fa0a-6e9a008e5aec"
      },
      "source": [
        "# Example\n",
        "Max_ig, Max_predictor, Max_category=find_max_predictor(df)\n",
        "print('Maximum Impurity Gain: ' +str(Max_ig) +' obtained with the predictor '+ Max_predictor +' and category ' +str(Max_category))"
      ],
      "execution_count": 81,
      "outputs": [
        {
          "output_type": "stream",
          "text": [
            "Maximum Impurity Gain: 0.20991841189440502 obtained with the predictor Polyuria and category No\n"
          ],
          "name": "stdout"
        }
      ]
    },
    {
      "cell_type": "markdown",
      "metadata": {
        "id": "Ij7o4s3cpOFi"
      },
      "source": [
        "Expected output: \n",
        "\n",
        "Maximum Impurity Gain: 0.20991841189440502 obtained with the predictor Polyuria and category No"
      ]
    },
    {
      "cell_type": "markdown",
      "metadata": {
        "id": "PwHAx0GuoeP7"
      },
      "source": [
        "**TASK 9:** 3.\tSplit any input data X (a dataframe) into two new nodes using the \n",
        "split point and predictor selected obtained with find_max_predictor."
      ]
    },
    {
      "cell_type": "code",
      "metadata": {
        "id": "8p8ZPmXgeqyu"
      },
      "source": [
        "# 3. Split data (15 POINTS)\n",
        "def split_data(df):\n",
        "    \"\"\"\n",
        "    Splits the input subset (df) into two smaller subsets (dfL and dfR) that define\n",
        "    the split that provides the highest Impurity Gain. It also returns the predictor\n",
        "    (Max_predictor) and category (Max_category) that favor that split. The code might \n",
        "    be different for numerical and categorical predictor variables.\n",
        "    \"\"\"\n",
        "\n",
        "    #YOUR CODE GOES HERE\n",
        "    _, Max_predictor, Max_category = find_max_predictor(df)\n",
        "\n",
        "    dfL = df[df[Max_predictor] == Max_category]\n",
        "    dfR = df[df[Max_predictor] != Max_category]\n",
        "  \n",
        "    return dfL,dfR, Max_predictor, Max_category "
      ],
      "execution_count": 82,
      "outputs": []
    },
    {
      "cell_type": "code",
      "metadata": {
        "id": "LFde069petWc",
        "colab": {
          "base_uri": "https://localhost:8080/"
        },
        "outputId": "0bfecf6d-e3a7-4fa2-a499-cce0dbd80526"
      },
      "source": [
        "# This defines the first node of the tree for the df dataset\n",
        "dfL,dfR,predictor,treshold=split_data(df)\n",
        "# This calculates the Impurity Gain when going from the initial dataset (df) to \n",
        "# the left and right subsets\n",
        "impurity_gain(df,dfL,dfR)"
      ],
      "execution_count": 83,
      "outputs": [
        {
          "output_type": "execute_result",
          "data": {
            "text/plain": [
              "0.20991841189440502"
            ]
          },
          "metadata": {
            "tags": []
          },
          "execution_count": 83
        }
      ]
    },
    {
      "cell_type": "markdown",
      "metadata": {
        "id": "N-YfUwRXpzm1"
      },
      "source": [
        "Expected output:\n",
        "0.20991841189440502"
      ]
    },
    {
      "cell_type": "markdown",
      "metadata": {
        "id": "LR2-HNADqLX0"
      },
      "source": [
        "**Additional code:**\n",
        "The following function and classes serve to store information of the nodes and leaves. You do not need to code anything here. :)"
      ]
    },
    {
      "cell_type": "code",
      "metadata": {
        "id": "ep9MOdnZmzmd"
      },
      "source": [
        "def classify_leaf(df):\n",
        "  \"\"\" \n",
        "  Counts the number of observations per class (class probability) in the input df \n",
        "  This function serves to create the classification info stored in the leaf.\n",
        "  \"\"\"\n",
        "\n",
        "  classes=df.iloc[:,-1] # Labels in df\n",
        "  classes_uni=classes.unique() # this variable contains the classes that exist in df\n",
        "  result={Tclass:(sum(classes==Tclass)/len(df)) for Tclass in classes_uni} #proportion of observations per class\n",
        "  return result\n",
        "\n",
        "class tree_leaf:\n",
        "    \"\"\"\n",
        "    This class will contain the results of the leaf (ex: Positive: 0.8, Negative:0.2)\n",
        "    \"\"\"\n",
        "\n",
        "    def __init__(self, df):\n",
        "        self.predictions = classify_leaf(df)\n",
        "\n",
        "class tree_node:\n",
        "    \"\"\"\n",
        "    This class will contain the predictor and treshold of the node and a the two \n",
        "    nested nodes (left and right)\n",
        "    \"\"\"\n",
        "\n",
        "    def __init__(self,\n",
        "                 predictor,\n",
        "                 threshold,\n",
        "                 left_branch,\n",
        "                 right_branch):\n",
        "        self.predictor = predictor\n",
        "        self.threshold = threshold\n",
        "        self.left_branch = left_branch\n",
        "        self.right_branch = right_branch"
      ],
      "execution_count": 84,
      "outputs": []
    },
    {
      "cell_type": "markdown",
      "metadata": {
        "id": "Mp94TI9HqXIL"
      },
      "source": [
        "**TASK 10:** Stopping rules. These rules will serve to decide when to stop looking for a node and create a leaf. Conventional algorithms might have more stopping rules, but we will restrict our rules to only four conditions. You will have to code the functions that check these rules.\n",
        "\n",
        "4.a.\tStopping rules:\n",
        "\n",
        "i.\tMaximum tree depth (maximum number of nodes in a row) (this will be checked in the main function)\n",
        "\n",
        "ii.\tAll the remaining training observations in a resulting branch belong to a single class (maximum purity)\n",
        "\n",
        "iii.\tAll observations in a node have the same predictor’s values: it is not possible to split more. \n",
        "\n",
        "iv.\tThe node size is less than the minimum node size (number of observations in a node)\n"
      ]
    },
    {
      "cell_type": "code",
      "metadata": {
        "colab": {
          "base_uri": "https://localhost:8080/"
        },
        "id": "FPWBnDCOvHMz",
        "outputId": "1fa9f98a-3aca-4eb3-d10c-90573cbc2089"
      },
      "source": [
        "impurity_gini(df)"
      ],
      "execution_count": 85,
      "outputs": [
        {
          "output_type": "execute_result",
          "data": {
            "text/plain": [
              "0.47337278106508873"
            ]
          },
          "metadata": {
            "tags": []
          },
          "execution_count": 85
        }
      ]
    },
    {
      "cell_type": "code",
      "metadata": {
        "id": "im4FYiWyJPpe"
      },
      "source": [
        "# check stopping rules (10 POINTS)\n",
        "\n",
        "#4.a.ii\n",
        "def check_impurity(df):\n",
        "  #returns TRUE if impurity of the data in df is equal to 0.\n",
        " \n",
        "    #YOUR CODE GOES HERE\n",
        "    if impurity_gini(df) == 0: return True\n",
        "    return False\n",
        "\n",
        "#4.a.iii\n",
        "def check_predictor(df):\n",
        "  #Checks if all the observations have exactly the same variable vectors \n",
        "  #(same values for every single predictor variable)\n",
        "    \n",
        "    #YOUR CODE GOES HERE\n",
        "    for i in df.columns:\n",
        "        if len(unique_values(df, i)) == 1:\n",
        "            pass\n",
        "        else: return False\n",
        "    return True        \n",
        "  \n",
        "#4.a.iv\n",
        "def check_node_length(df, min_partition_length):\n",
        "  #returns TRUE if the number of observations in df is less than min_partition_length\n",
        "  \n",
        "    #YOUR CODE GOES HERE (you have finished!!)\n",
        "\n",
        "    if df.shape[0] < min_partition_length:\n",
        "        return True\n",
        "    return False\n"
      ],
      "execution_count": 99,
      "outputs": []
    },
    {
      "cell_type": "markdown",
      "metadata": {
        "id": "2GhcHKnCrh9Q"
      },
      "source": [
        "**End of the lab: Train the tree**\n",
        "\n",
        "If all your functions have been coded as requested, the following functions should train and evaluate a decision tree. \n",
        "\n",
        "**TASK 11:** Code the training of the right (false) branch"
      ]
    },
    {
      "cell_type": "code",
      "metadata": {
        "id": "joJ0X6aJJClU"
      },
      "source": [
        "# train the tree  (10 POINTS)\n",
        "def train_tree_mlma(df, tree_depth=0, min_partition_length=2, max_tree_depth=200):\n",
        "\n",
        "    dfL,dfR,predictor,threshold=split_data(df)\n",
        "    tree_depth+=1 #the tree depth in this path is extended\n",
        "    print('Tree depth: ' +str(tree_depth))\n",
        "    #tree_depth==max_tree_depth checks condition 4.a.i\n",
        "    #Left branch (true)\n",
        "    if check_impurity(dfL) or check_predictor(dfL) or check_node_length(dfL,min_partition_length) or tree_depth==max_tree_depth:\n",
        "        left_node=tree_leaf(dfL)\n",
        "    else:\n",
        "        left_node=train_tree_mlma(dfL, tree_depth)\n",
        "  \n",
        "    #Right branch (false)\n",
        "\n",
        "    # YOUR CODE GOES HERE\n",
        "\n",
        "    # if check_impurity(dfL) or check_predictor(dfL) or check_node_length(dfL,min_partition_length) or tree_depth==max_tree_depth:\n",
        "    #     left_node=tree_leaf(dfL)\n",
        "    # else:\n",
        "    #     left_node=train_tree_mlma(dfL, tree_depth)\n",
        "\n",
        "    return tree_node(predictor, threshold, left_node, right_node)"
      ],
      "execution_count": 102,
      "outputs": []
    },
    {
      "cell_type": "code",
      "metadata": {
        "colab": {
          "base_uri": "https://localhost:8080/",
          "height": 469
        },
        "id": "YbbLwv2H0pgp",
        "outputId": "68d16f24-25d9-434d-dab0-e963de9b6ef3"
      },
      "source": [
        "dfTrain"
      ],
      "execution_count": 103,
      "outputs": [
        {
          "output_type": "execute_result",
          "data": {
            "text/html": [
              "<div>\n",
              "<style scoped>\n",
              "    .dataframe tbody tr th:only-of-type {\n",
              "        vertical-align: middle;\n",
              "    }\n",
              "\n",
              "    .dataframe tbody tr th {\n",
              "        vertical-align: top;\n",
              "    }\n",
              "\n",
              "    .dataframe thead th {\n",
              "        text-align: right;\n",
              "    }\n",
              "</style>\n",
              "<table border=\"1\" class=\"dataframe\">\n",
              "  <thead>\n",
              "    <tr style=\"text-align: right;\">\n",
              "      <th></th>\n",
              "      <th>Age</th>\n",
              "      <th>Gender</th>\n",
              "      <th>Polyuria</th>\n",
              "      <th>Polydipsia</th>\n",
              "      <th>sudden weight loss</th>\n",
              "      <th>weakness</th>\n",
              "      <th>Polyphagia</th>\n",
              "      <th>Genital thrush</th>\n",
              "      <th>visual blurring</th>\n",
              "      <th>Itching</th>\n",
              "      <th>Irritability</th>\n",
              "      <th>delayed healing</th>\n",
              "      <th>partial paresis</th>\n",
              "      <th>muscle stiffness</th>\n",
              "      <th>Alopecia</th>\n",
              "      <th>Obesity</th>\n",
              "      <th>class</th>\n",
              "    </tr>\n",
              "  </thead>\n",
              "  <tbody>\n",
              "    <tr>\n",
              "      <th>0</th>\n",
              "      <td>40</td>\n",
              "      <td>Male</td>\n",
              "      <td>No</td>\n",
              "      <td>Yes</td>\n",
              "      <td>No</td>\n",
              "      <td>Yes</td>\n",
              "      <td>No</td>\n",
              "      <td>No</td>\n",
              "      <td>No</td>\n",
              "      <td>Yes</td>\n",
              "      <td>No</td>\n",
              "      <td>Yes</td>\n",
              "      <td>No</td>\n",
              "      <td>Yes</td>\n",
              "      <td>Yes</td>\n",
              "      <td>Yes</td>\n",
              "      <td>Positive</td>\n",
              "    </tr>\n",
              "    <tr>\n",
              "      <th>1</th>\n",
              "      <td>58</td>\n",
              "      <td>Male</td>\n",
              "      <td>No</td>\n",
              "      <td>No</td>\n",
              "      <td>No</td>\n",
              "      <td>Yes</td>\n",
              "      <td>No</td>\n",
              "      <td>No</td>\n",
              "      <td>Yes</td>\n",
              "      <td>No</td>\n",
              "      <td>No</td>\n",
              "      <td>No</td>\n",
              "      <td>Yes</td>\n",
              "      <td>No</td>\n",
              "      <td>Yes</td>\n",
              "      <td>No</td>\n",
              "      <td>Positive</td>\n",
              "    </tr>\n",
              "    <tr>\n",
              "      <th>2</th>\n",
              "      <td>41</td>\n",
              "      <td>Male</td>\n",
              "      <td>Yes</td>\n",
              "      <td>No</td>\n",
              "      <td>No</td>\n",
              "      <td>Yes</td>\n",
              "      <td>Yes</td>\n",
              "      <td>No</td>\n",
              "      <td>No</td>\n",
              "      <td>Yes</td>\n",
              "      <td>No</td>\n",
              "      <td>Yes</td>\n",
              "      <td>No</td>\n",
              "      <td>Yes</td>\n",
              "      <td>Yes</td>\n",
              "      <td>No</td>\n",
              "      <td>Positive</td>\n",
              "    </tr>\n",
              "    <tr>\n",
              "      <th>3</th>\n",
              "      <td>45</td>\n",
              "      <td>Male</td>\n",
              "      <td>No</td>\n",
              "      <td>No</td>\n",
              "      <td>Yes</td>\n",
              "      <td>Yes</td>\n",
              "      <td>Yes</td>\n",
              "      <td>Yes</td>\n",
              "      <td>No</td>\n",
              "      <td>Yes</td>\n",
              "      <td>No</td>\n",
              "      <td>Yes</td>\n",
              "      <td>No</td>\n",
              "      <td>No</td>\n",
              "      <td>No</td>\n",
              "      <td>No</td>\n",
              "      <td>Positive</td>\n",
              "    </tr>\n",
              "    <tr>\n",
              "      <th>4</th>\n",
              "      <td>60</td>\n",
              "      <td>Male</td>\n",
              "      <td>Yes</td>\n",
              "      <td>Yes</td>\n",
              "      <td>Yes</td>\n",
              "      <td>Yes</td>\n",
              "      <td>Yes</td>\n",
              "      <td>No</td>\n",
              "      <td>Yes</td>\n",
              "      <td>Yes</td>\n",
              "      <td>Yes</td>\n",
              "      <td>Yes</td>\n",
              "      <td>Yes</td>\n",
              "      <td>Yes</td>\n",
              "      <td>Yes</td>\n",
              "      <td>Yes</td>\n",
              "      <td>Positive</td>\n",
              "    </tr>\n",
              "    <tr>\n",
              "      <th>5</th>\n",
              "      <td>55</td>\n",
              "      <td>Male</td>\n",
              "      <td>Yes</td>\n",
              "      <td>Yes</td>\n",
              "      <td>No</td>\n",
              "      <td>Yes</td>\n",
              "      <td>Yes</td>\n",
              "      <td>No</td>\n",
              "      <td>Yes</td>\n",
              "      <td>Yes</td>\n",
              "      <td>No</td>\n",
              "      <td>Yes</td>\n",
              "      <td>No</td>\n",
              "      <td>Yes</td>\n",
              "      <td>Yes</td>\n",
              "      <td>Yes</td>\n",
              "      <td>Positive</td>\n",
              "    </tr>\n",
              "    <tr>\n",
              "      <th>6</th>\n",
              "      <td>57</td>\n",
              "      <td>Male</td>\n",
              "      <td>Yes</td>\n",
              "      <td>Yes</td>\n",
              "      <td>No</td>\n",
              "      <td>Yes</td>\n",
              "      <td>Yes</td>\n",
              "      <td>Yes</td>\n",
              "      <td>No</td>\n",
              "      <td>No</td>\n",
              "      <td>No</td>\n",
              "      <td>Yes</td>\n",
              "      <td>Yes</td>\n",
              "      <td>No</td>\n",
              "      <td>No</td>\n",
              "      <td>No</td>\n",
              "      <td>Positive</td>\n",
              "    </tr>\n",
              "    <tr>\n",
              "      <th>7</th>\n",
              "      <td>66</td>\n",
              "      <td>Male</td>\n",
              "      <td>Yes</td>\n",
              "      <td>Yes</td>\n",
              "      <td>Yes</td>\n",
              "      <td>Yes</td>\n",
              "      <td>No</td>\n",
              "      <td>No</td>\n",
              "      <td>Yes</td>\n",
              "      <td>Yes</td>\n",
              "      <td>Yes</td>\n",
              "      <td>No</td>\n",
              "      <td>Yes</td>\n",
              "      <td>Yes</td>\n",
              "      <td>No</td>\n",
              "      <td>No</td>\n",
              "      <td>Positive</td>\n",
              "    </tr>\n",
              "    <tr>\n",
              "      <th>8</th>\n",
              "      <td>67</td>\n",
              "      <td>Male</td>\n",
              "      <td>Yes</td>\n",
              "      <td>Yes</td>\n",
              "      <td>No</td>\n",
              "      <td>Yes</td>\n",
              "      <td>Yes</td>\n",
              "      <td>Yes</td>\n",
              "      <td>No</td>\n",
              "      <td>Yes</td>\n",
              "      <td>Yes</td>\n",
              "      <td>No</td>\n",
              "      <td>Yes</td>\n",
              "      <td>Yes</td>\n",
              "      <td>No</td>\n",
              "      <td>Yes</td>\n",
              "      <td>Positive</td>\n",
              "    </tr>\n",
              "    <tr>\n",
              "      <th>9</th>\n",
              "      <td>70</td>\n",
              "      <td>Male</td>\n",
              "      <td>No</td>\n",
              "      <td>Yes</td>\n",
              "      <td>Yes</td>\n",
              "      <td>Yes</td>\n",
              "      <td>Yes</td>\n",
              "      <td>No</td>\n",
              "      <td>Yes</td>\n",
              "      <td>Yes</td>\n",
              "      <td>Yes</td>\n",
              "      <td>No</td>\n",
              "      <td>No</td>\n",
              "      <td>No</td>\n",
              "      <td>Yes</td>\n",
              "      <td>No</td>\n",
              "      <td>Positive</td>\n",
              "    </tr>\n",
              "    <tr>\n",
              "      <th>10</th>\n",
              "      <td>44</td>\n",
              "      <td>Male</td>\n",
              "      <td>Yes</td>\n",
              "      <td>Yes</td>\n",
              "      <td>No</td>\n",
              "      <td>Yes</td>\n",
              "      <td>No</td>\n",
              "      <td>Yes</td>\n",
              "      <td>No</td>\n",
              "      <td>No</td>\n",
              "      <td>Yes</td>\n",
              "      <td>Yes</td>\n",
              "      <td>No</td>\n",
              "      <td>Yes</td>\n",
              "      <td>Yes</td>\n",
              "      <td>No</td>\n",
              "      <td>Positive</td>\n",
              "    </tr>\n",
              "    <tr>\n",
              "      <th>11</th>\n",
              "      <td>38</td>\n",
              "      <td>Male</td>\n",
              "      <td>Yes</td>\n",
              "      <td>Yes</td>\n",
              "      <td>No</td>\n",
              "      <td>No</td>\n",
              "      <td>Yes</td>\n",
              "      <td>Yes</td>\n",
              "      <td>No</td>\n",
              "      <td>Yes</td>\n",
              "      <td>No</td>\n",
              "      <td>Yes</td>\n",
              "      <td>No</td>\n",
              "      <td>Yes</td>\n",
              "      <td>No</td>\n",
              "      <td>No</td>\n",
              "      <td>Positive</td>\n",
              "    </tr>\n",
              "    <tr>\n",
              "      <th>12</th>\n",
              "      <td>35</td>\n",
              "      <td>Male</td>\n",
              "      <td>Yes</td>\n",
              "      <td>No</td>\n",
              "      <td>No</td>\n",
              "      <td>No</td>\n",
              "      <td>Yes</td>\n",
              "      <td>Yes</td>\n",
              "      <td>No</td>\n",
              "      <td>No</td>\n",
              "      <td>Yes</td>\n",
              "      <td>Yes</td>\n",
              "      <td>No</td>\n",
              "      <td>No</td>\n",
              "      <td>Yes</td>\n",
              "      <td>No</td>\n",
              "      <td>Positive</td>\n",
              "    </tr>\n",
              "  </tbody>\n",
              "</table>\n",
              "</div>"
            ],
            "text/plain": [
              "    Age Gender Polyuria Polydipsia  ... muscle stiffness Alopecia Obesity     class\n",
              "0    40   Male       No        Yes  ...              Yes      Yes     Yes  Positive\n",
              "1    58   Male       No         No  ...               No      Yes      No  Positive\n",
              "2    41   Male      Yes         No  ...              Yes      Yes      No  Positive\n",
              "3    45   Male       No         No  ...               No       No      No  Positive\n",
              "4    60   Male      Yes        Yes  ...              Yes      Yes     Yes  Positive\n",
              "5    55   Male      Yes        Yes  ...              Yes      Yes     Yes  Positive\n",
              "6    57   Male      Yes        Yes  ...               No       No      No  Positive\n",
              "7    66   Male      Yes        Yes  ...              Yes       No      No  Positive\n",
              "8    67   Male      Yes        Yes  ...              Yes       No     Yes  Positive\n",
              "9    70   Male       No        Yes  ...               No      Yes      No  Positive\n",
              "10   44   Male      Yes        Yes  ...              Yes      Yes      No  Positive\n",
              "11   38   Male      Yes        Yes  ...              Yes       No      No  Positive\n",
              "12   35   Male      Yes         No  ...               No      Yes      No  Positive\n",
              "\n",
              "[13 rows x 17 columns]"
            ]
          },
          "metadata": {
            "tags": []
          },
          "execution_count": 103
        }
      ]
    },
    {
      "cell_type": "code",
      "metadata": {
        "id": "u5-an4DJLMut",
        "colab": {
          "base_uri": "https://localhost:8080/",
          "height": 969
        },
        "outputId": "bf77d2d8-dd7a-4cb2-e86b-2258c75deab3"
      },
      "source": [
        "my_tree=train_tree_mlma(dfTrain)"
      ],
      "execution_count": 104,
      "outputs": [
        {
          "output_type": "error",
          "ename": "KeyError",
          "evalue": "ignored",
          "traceback": [
            "\u001b[0;31m---------------------------------------------------------------------------\u001b[0m",
            "\u001b[0;31mKeyError\u001b[0m                                  Traceback (most recent call last)",
            "\u001b[0;32m/usr/local/lib/python3.6/dist-packages/pandas/core/indexes/base.py\u001b[0m in \u001b[0;36mget_loc\u001b[0;34m(self, key, method, tolerance)\u001b[0m\n\u001b[1;32m   2897\u001b[0m             \u001b[0;32mtry\u001b[0m\u001b[0;34m:\u001b[0m\u001b[0;34m\u001b[0m\u001b[0;34m\u001b[0m\u001b[0m\n\u001b[0;32m-> 2898\u001b[0;31m                 \u001b[0;32mreturn\u001b[0m \u001b[0mself\u001b[0m\u001b[0;34m.\u001b[0m\u001b[0m_engine\u001b[0m\u001b[0;34m.\u001b[0m\u001b[0mget_loc\u001b[0m\u001b[0;34m(\u001b[0m\u001b[0mcasted_key\u001b[0m\u001b[0;34m)\u001b[0m\u001b[0;34m\u001b[0m\u001b[0;34m\u001b[0m\u001b[0m\n\u001b[0m\u001b[1;32m   2899\u001b[0m             \u001b[0;32mexcept\u001b[0m \u001b[0mKeyError\u001b[0m \u001b[0;32mas\u001b[0m \u001b[0merr\u001b[0m\u001b[0;34m:\u001b[0m\u001b[0;34m\u001b[0m\u001b[0;34m\u001b[0m\u001b[0m\n",
            "\u001b[0;32mpandas/_libs/index.pyx\u001b[0m in \u001b[0;36mpandas._libs.index.IndexEngine.get_loc\u001b[0;34m()\u001b[0m\n",
            "\u001b[0;32mpandas/_libs/index.pyx\u001b[0m in \u001b[0;36mpandas._libs.index.IndexEngine.get_loc\u001b[0;34m()\u001b[0m\n",
            "\u001b[0;32mpandas/_libs/hashtable_class_helper.pxi\u001b[0m in \u001b[0;36mpandas._libs.hashtable.PyObjectHashTable.get_item\u001b[0;34m()\u001b[0m\n",
            "\u001b[0;32mpandas/_libs/hashtable_class_helper.pxi\u001b[0m in \u001b[0;36mpandas._libs.hashtable.PyObjectHashTable.get_item\u001b[0;34m()\u001b[0m\n",
            "\u001b[0;31mKeyError\u001b[0m: None",
            "\nThe above exception was the direct cause of the following exception:\n",
            "\u001b[0;31mKeyError\u001b[0m                                  Traceback (most recent call last)",
            "\u001b[0;32m<ipython-input-104-d88f933334bb>\u001b[0m in \u001b[0;36m<module>\u001b[0;34m()\u001b[0m\n\u001b[0;32m----> 1\u001b[0;31m \u001b[0mmy_tree\u001b[0m\u001b[0;34m=\u001b[0m\u001b[0mtrain_tree_mlma\u001b[0m\u001b[0;34m(\u001b[0m\u001b[0mdfTrain\u001b[0m\u001b[0;34m)\u001b[0m\u001b[0;34m\u001b[0m\u001b[0;34m\u001b[0m\u001b[0m\n\u001b[0m",
            "\u001b[0;32m<ipython-input-102-9e4e6962e6b2>\u001b[0m in \u001b[0;36mtrain_tree_mlma\u001b[0;34m(df, tree_depth, min_partition_length, max_tree_depth)\u001b[0m\n\u001b[1;32m      2\u001b[0m \u001b[0;32mdef\u001b[0m \u001b[0mtrain_tree_mlma\u001b[0m\u001b[0;34m(\u001b[0m\u001b[0mdf\u001b[0m\u001b[0;34m,\u001b[0m \u001b[0mtree_depth\u001b[0m\u001b[0;34m=\u001b[0m\u001b[0;36m0\u001b[0m\u001b[0;34m,\u001b[0m \u001b[0mmin_partition_length\u001b[0m\u001b[0;34m=\u001b[0m\u001b[0;36m2\u001b[0m\u001b[0;34m,\u001b[0m \u001b[0mmax_tree_depth\u001b[0m\u001b[0;34m=\u001b[0m\u001b[0;36m200\u001b[0m\u001b[0;34m)\u001b[0m\u001b[0;34m:\u001b[0m\u001b[0;34m\u001b[0m\u001b[0;34m\u001b[0m\u001b[0m\n\u001b[1;32m      3\u001b[0m \u001b[0;34m\u001b[0m\u001b[0m\n\u001b[0;32m----> 4\u001b[0;31m     \u001b[0mdfL\u001b[0m\u001b[0;34m,\u001b[0m\u001b[0mdfR\u001b[0m\u001b[0;34m,\u001b[0m\u001b[0mpredictor\u001b[0m\u001b[0;34m,\u001b[0m\u001b[0mthreshold\u001b[0m\u001b[0;34m=\u001b[0m\u001b[0msplit_data\u001b[0m\u001b[0;34m(\u001b[0m\u001b[0mdf\u001b[0m\u001b[0;34m)\u001b[0m\u001b[0;34m\u001b[0m\u001b[0;34m\u001b[0m\u001b[0m\n\u001b[0m\u001b[1;32m      5\u001b[0m     \u001b[0mtree_depth\u001b[0m\u001b[0;34m+=\u001b[0m\u001b[0;36m1\u001b[0m \u001b[0;31m#the tree depth in this path is extended\u001b[0m\u001b[0;34m\u001b[0m\u001b[0;34m\u001b[0m\u001b[0m\n\u001b[1;32m      6\u001b[0m     \u001b[0mprint\u001b[0m\u001b[0;34m(\u001b[0m\u001b[0;34m'Tree depth: '\u001b[0m \u001b[0;34m+\u001b[0m\u001b[0mstr\u001b[0m\u001b[0;34m(\u001b[0m\u001b[0mtree_depth\u001b[0m\u001b[0;34m)\u001b[0m\u001b[0;34m)\u001b[0m\u001b[0;34m\u001b[0m\u001b[0;34m\u001b[0m\u001b[0m\n",
            "\u001b[0;32m<ipython-input-82-aa5a65681a33>\u001b[0m in \u001b[0;36msplit_data\u001b[0;34m(df)\u001b[0m\n\u001b[1;32m     11\u001b[0m     \u001b[0m_\u001b[0m\u001b[0;34m,\u001b[0m \u001b[0mMax_predictor\u001b[0m\u001b[0;34m,\u001b[0m \u001b[0mMax_category\u001b[0m \u001b[0;34m=\u001b[0m \u001b[0mfind_max_predictor\u001b[0m\u001b[0;34m(\u001b[0m\u001b[0mdf\u001b[0m\u001b[0;34m)\u001b[0m\u001b[0;34m\u001b[0m\u001b[0;34m\u001b[0m\u001b[0m\n\u001b[1;32m     12\u001b[0m \u001b[0;34m\u001b[0m\u001b[0m\n\u001b[0;32m---> 13\u001b[0;31m     \u001b[0mdfL\u001b[0m \u001b[0;34m=\u001b[0m \u001b[0mdf\u001b[0m\u001b[0;34m[\u001b[0m\u001b[0mdf\u001b[0m\u001b[0;34m[\u001b[0m\u001b[0mMax_predictor\u001b[0m\u001b[0;34m]\u001b[0m \u001b[0;34m==\u001b[0m \u001b[0mMax_category\u001b[0m\u001b[0;34m]\u001b[0m\u001b[0;34m\u001b[0m\u001b[0;34m\u001b[0m\u001b[0m\n\u001b[0m\u001b[1;32m     14\u001b[0m     \u001b[0mdfR\u001b[0m \u001b[0;34m=\u001b[0m \u001b[0mdf\u001b[0m\u001b[0;34m[\u001b[0m\u001b[0mdf\u001b[0m\u001b[0;34m[\u001b[0m\u001b[0mMax_predictor\u001b[0m\u001b[0;34m]\u001b[0m \u001b[0;34m!=\u001b[0m \u001b[0mMax_category\u001b[0m\u001b[0;34m]\u001b[0m\u001b[0;34m\u001b[0m\u001b[0;34m\u001b[0m\u001b[0m\n\u001b[1;32m     15\u001b[0m \u001b[0;34m\u001b[0m\u001b[0m\n",
            "\u001b[0;32m/usr/local/lib/python3.6/dist-packages/pandas/core/frame.py\u001b[0m in \u001b[0;36m__getitem__\u001b[0;34m(self, key)\u001b[0m\n\u001b[1;32m   2904\u001b[0m             \u001b[0;32mif\u001b[0m \u001b[0mself\u001b[0m\u001b[0;34m.\u001b[0m\u001b[0mcolumns\u001b[0m\u001b[0;34m.\u001b[0m\u001b[0mnlevels\u001b[0m \u001b[0;34m>\u001b[0m \u001b[0;36m1\u001b[0m\u001b[0;34m:\u001b[0m\u001b[0;34m\u001b[0m\u001b[0;34m\u001b[0m\u001b[0m\n\u001b[1;32m   2905\u001b[0m                 \u001b[0;32mreturn\u001b[0m \u001b[0mself\u001b[0m\u001b[0;34m.\u001b[0m\u001b[0m_getitem_multilevel\u001b[0m\u001b[0;34m(\u001b[0m\u001b[0mkey\u001b[0m\u001b[0;34m)\u001b[0m\u001b[0;34m\u001b[0m\u001b[0;34m\u001b[0m\u001b[0m\n\u001b[0;32m-> 2906\u001b[0;31m             \u001b[0mindexer\u001b[0m \u001b[0;34m=\u001b[0m \u001b[0mself\u001b[0m\u001b[0;34m.\u001b[0m\u001b[0mcolumns\u001b[0m\u001b[0;34m.\u001b[0m\u001b[0mget_loc\u001b[0m\u001b[0;34m(\u001b[0m\u001b[0mkey\u001b[0m\u001b[0;34m)\u001b[0m\u001b[0;34m\u001b[0m\u001b[0;34m\u001b[0m\u001b[0m\n\u001b[0m\u001b[1;32m   2907\u001b[0m             \u001b[0;32mif\u001b[0m \u001b[0mis_integer\u001b[0m\u001b[0;34m(\u001b[0m\u001b[0mindexer\u001b[0m\u001b[0;34m)\u001b[0m\u001b[0;34m:\u001b[0m\u001b[0;34m\u001b[0m\u001b[0;34m\u001b[0m\u001b[0m\n\u001b[1;32m   2908\u001b[0m                 \u001b[0mindexer\u001b[0m \u001b[0;34m=\u001b[0m \u001b[0;34m[\u001b[0m\u001b[0mindexer\u001b[0m\u001b[0;34m]\u001b[0m\u001b[0;34m\u001b[0m\u001b[0;34m\u001b[0m\u001b[0m\n",
            "\u001b[0;32m/usr/local/lib/python3.6/dist-packages/pandas/core/indexes/base.py\u001b[0m in \u001b[0;36mget_loc\u001b[0;34m(self, key, method, tolerance)\u001b[0m\n\u001b[1;32m   2898\u001b[0m                 \u001b[0;32mreturn\u001b[0m \u001b[0mself\u001b[0m\u001b[0;34m.\u001b[0m\u001b[0m_engine\u001b[0m\u001b[0;34m.\u001b[0m\u001b[0mget_loc\u001b[0m\u001b[0;34m(\u001b[0m\u001b[0mcasted_key\u001b[0m\u001b[0;34m)\u001b[0m\u001b[0;34m\u001b[0m\u001b[0;34m\u001b[0m\u001b[0m\n\u001b[1;32m   2899\u001b[0m             \u001b[0;32mexcept\u001b[0m \u001b[0mKeyError\u001b[0m \u001b[0;32mas\u001b[0m \u001b[0merr\u001b[0m\u001b[0;34m:\u001b[0m\u001b[0;34m\u001b[0m\u001b[0;34m\u001b[0m\u001b[0m\n\u001b[0;32m-> 2900\u001b[0;31m                 \u001b[0;32mraise\u001b[0m \u001b[0mKeyError\u001b[0m\u001b[0;34m(\u001b[0m\u001b[0mkey\u001b[0m\u001b[0;34m)\u001b[0m \u001b[0;32mfrom\u001b[0m \u001b[0merr\u001b[0m\u001b[0;34m\u001b[0m\u001b[0;34m\u001b[0m\u001b[0m\n\u001b[0m\u001b[1;32m   2901\u001b[0m \u001b[0;34m\u001b[0m\u001b[0m\n\u001b[1;32m   2902\u001b[0m         \u001b[0;32mif\u001b[0m \u001b[0mtolerance\u001b[0m \u001b[0;32mis\u001b[0m \u001b[0;32mnot\u001b[0m \u001b[0;32mNone\u001b[0m\u001b[0;34m:\u001b[0m\u001b[0;34m\u001b[0m\u001b[0;34m\u001b[0m\u001b[0m\n",
            "\u001b[0;31mKeyError\u001b[0m: None"
          ]
        }
      ]
    },
    {
      "cell_type": "code",
      "metadata": {
        "id": "yUbMrlD5N0CA"
      },
      "source": [
        "def print_tree_mlma(my_tree, jump=''):\n",
        "  jump=jump+'-'\n",
        "  if isinstance(my_tree, tree_leaf):\n",
        "    print(jump+'Result: ')\n",
        "    print(my_tree.predictions)\n",
        "  else:\n",
        "    if is_numeric_dtype(my_tree.threshold):\n",
        "      print(jump + '> If ' + str(my_tree.predictor) + ' <= ' + str(my_tree.threshold))\n",
        "      print_tree_mlma(my_tree.left_branch,jump)\n",
        "      print(jump+'> Else: ')\n",
        "      print_tree_mlma(my_tree.right_branch,jump)\n",
        "    \n",
        "    else:\n",
        "      print(jump + '> If ' + str(my_tree.predictor) + ' is ' + str(my_tree.threshold))\n",
        "      print_tree_mlma(my_tree.left_branch,jump)\n",
        "      print(jump+'> Else: ')\n",
        "      print_tree_mlma(my_tree.right_branch,jump)\n"
      ],
      "execution_count": null,
      "outputs": []
    },
    {
      "cell_type": "code",
      "metadata": {
        "id": "7LXpiaHXbnIp"
      },
      "source": [
        "print_tree_mlma(my_tree)"
      ],
      "execution_count": null,
      "outputs": []
    },
    {
      "cell_type": "code",
      "metadata": {
        "id": "8J9LNrJsbaYe"
      },
      "source": [
        "def classify_tree_mlma(my_tree, my_series):\n",
        "  \"\"\"\n",
        "  Classifies the input series and returns the predictions\n",
        "  \"\"\"\n",
        "  if isinstance(my_tree, tree_leaf):\n",
        "    return my_tree.predictions\n",
        "  else:\n",
        "    if is_numeric_dtype(my_tree.threshold): # Numeric\n",
        "      if my_series[my_tree.predictor] <= my_tree.threshold:\n",
        "        return classify_tree_mlma(my_tree.left_branch,my_series)\n",
        "      else:\n",
        "        return classify_tree_mlma(my_tree.right_branch,my_series)\n",
        "    else: #Categorical\n",
        "      if my_series[my_tree.predictor] == my_tree.threshold:\n",
        "        return classify_tree_mlma(my_tree.left_branch,my_series)\n",
        "      else:\n",
        "        return classify_tree_mlma(my_tree.right_branch,my_series)\n",
        "\n",
        "\n",
        "      \n",
        " "
      ],
      "execution_count": null,
      "outputs": []
    },
    {
      "cell_type": "code",
      "metadata": {
        "id": "9FNH2YaTbqKi"
      },
      "source": [
        "my_series=dfTest.iloc[33,:]\n",
        "prediction=classify_tree_mlma(my_tree, my_series )\n",
        "print('True class: ' + my_series[-1] + ' - ' + my_series.keys()[-1])\n",
        "print('Predicted class: ')\n",
        "print(prediction)"
      ],
      "execution_count": null,
      "outputs": []
    },
    {
      "cell_type": "markdown",
      "metadata": {
        "id": "sPc3VV-nsPty"
      },
      "source": [
        "**BONUS:** \n",
        "Code a function that calculates the accuracy of the trained tree when classifying the whole dfTest subset."
      ]
    },
    {
      "cell_type": "code",
      "metadata": {
        "id": "byC1SJLr0x5V"
      },
      "source": [
        "# YOUR CODE GOES HERE (+20 POINTS)"
      ],
      "execution_count": null,
      "outputs": []
    },
    {
      "cell_type": "code",
      "metadata": {
        "id": "xTrecWMjkvx6"
      },
      "source": [
        ""
      ],
      "execution_count": null,
      "outputs": []
    },
    {
      "cell_type": "markdown",
      "metadata": {
        "id": "_BL2qWs8NiL4"
      },
      "source": [
        "**You are ready to submit in Blackboard!**\n",
        "\n",
        "Please suffix your colab file with _<jhID> \n",
        "o\teg: Lab2_Decision_trees_myjhID12\n",
        "\n"
      ]
    }
  ]
}